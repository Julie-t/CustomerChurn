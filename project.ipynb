{
 "cells": [
  {
   "cell_type": "markdown",
   "id": "e53c3517",
   "metadata": {},
   "source": [
    "# SyriaTel Telecom Customer Churn Prediction \n",
    "## 1. Business Understanding\n",
    "###  Business Problem\n",
    "In the highly competitive telecommunications industry, customer retention is one of the most important drivers of profitability. Acquiring new customers is often more expensive than retaining existing ones, and high churn (customer dropout) can significantly impact revenue and long-term growth.\n",
    "SyrialTel, a telecommunications provider is losing revenue due to customer churn. Customer churn is the act of customers ceasing their subscriptions or leaving the service. Reducing churn is crucial for maintaining a stable customer base and profitability.\n",
    "The current system lacks a predictive mechanism to identify customers at risk of churning, meaning the business is reactive rather than proactive in handling customer dissatisfaction. This limits the ability of the Customer Retention and Marketing teams to design timely and targeted interventions (e.g., special offers, upgrades, or customer service outreach).\n",
    "\n",
    "### Business Objective\n",
    "The goal is to develop a **machine learning classification model** that predicts whether a customer will churn using available customer data.\n",
    "\n",
    "To solve this problem, I will:\n",
    "\n",
    "    - Use Logistic regression as a baseline model\n",
    "    - Build a decision tree classifier as an improved, non linear model with tuned hyperparameters.\n",
    "    - Build a gradient boosting classifier for an overall improved model.\n",
    "    - Present actionable insights\n",
    "\n",
    "### Stakeholder\n",
    "SyrialTel's Marketing and Customer Retention team who will use the model's predictions to design targeted campaigns to reduce churn.\n",
    "\n",
    "## 2. Data Understanding\n",
    "The dataset being used for this project was obtained from kaggle. The dataset is reviewed to access the structure and characteristics of the data."
   ]
  },
  {
   "cell_type": "code",
   "execution_count": 1,
   "id": "91cdc842",
   "metadata": {},
   "outputs": [],
   "source": [
    "# import necessary libraries\n",
    "import pandas as pd\n",
    "import numpy as np\n",
    "import matplotlib.pyplot as plt\n",
    "from sklearn.linear_model import LogisticRegression\n",
    "from sklearn.tree import DecisionTreeClassifier,plot_tree\n",
    "from sklearn.model_selection import train_test_split\n",
    "from sklearn.preprocessing import OneHotEncoder, StandardScaler\n",
    "from imblearn.over_sampling import SMOTE\n",
    "from sklearn.metrics import classification_report, accuracy_score, roc_curve, roc_auc_score\n",
    "from sklearn import tree"
   ]
  },
  {
   "cell_type": "code",
   "execution_count": 2,
   "id": "c95533a4",
   "metadata": {},
   "outputs": [
    {
     "data": {
      "application/vnd.microsoft.datawrangler.viewer.v0+json": {
       "columns": [
        {
         "name": "index",
         "rawType": "int64",
         "type": "integer"
        },
        {
         "name": "state",
         "rawType": "object",
         "type": "string"
        },
        {
         "name": "account length",
         "rawType": "int64",
         "type": "integer"
        },
        {
         "name": "area code",
         "rawType": "int64",
         "type": "integer"
        },
        {
         "name": "phone number",
         "rawType": "object",
         "type": "string"
        },
        {
         "name": "international plan",
         "rawType": "object",
         "type": "string"
        },
        {
         "name": "voice mail plan",
         "rawType": "object",
         "type": "string"
        },
        {
         "name": "number vmail messages",
         "rawType": "int64",
         "type": "integer"
        },
        {
         "name": "total day minutes",
         "rawType": "float64",
         "type": "float"
        },
        {
         "name": "total day calls",
         "rawType": "int64",
         "type": "integer"
        },
        {
         "name": "total day charge",
         "rawType": "float64",
         "type": "float"
        },
        {
         "name": "total eve minutes",
         "rawType": "float64",
         "type": "float"
        },
        {
         "name": "total eve calls",
         "rawType": "int64",
         "type": "integer"
        },
        {
         "name": "total eve charge",
         "rawType": "float64",
         "type": "float"
        },
        {
         "name": "total night minutes",
         "rawType": "float64",
         "type": "float"
        },
        {
         "name": "total night calls",
         "rawType": "int64",
         "type": "integer"
        },
        {
         "name": "total night charge",
         "rawType": "float64",
         "type": "float"
        },
        {
         "name": "total intl minutes",
         "rawType": "float64",
         "type": "float"
        },
        {
         "name": "total intl calls",
         "rawType": "int64",
         "type": "integer"
        },
        {
         "name": "total intl charge",
         "rawType": "float64",
         "type": "float"
        },
        {
         "name": "customer service calls",
         "rawType": "int64",
         "type": "integer"
        },
        {
         "name": "churn",
         "rawType": "bool",
         "type": "boolean"
        }
       ],
       "ref": "5e795ac5-c33b-43d1-b5de-17258f8edb90",
       "rows": [
        [
         "0",
         "KS",
         "128",
         "415",
         "382-4657",
         "no",
         "yes",
         "25",
         "265.1",
         "110",
         "45.07",
         "197.4",
         "99",
         "16.78",
         "244.7",
         "91",
         "11.01",
         "10.0",
         "3",
         "2.7",
         "1",
         "False"
        ],
        [
         "1",
         "OH",
         "107",
         "415",
         "371-7191",
         "no",
         "yes",
         "26",
         "161.6",
         "123",
         "27.47",
         "195.5",
         "103",
         "16.62",
         "254.4",
         "103",
         "11.45",
         "13.7",
         "3",
         "3.7",
         "1",
         "False"
        ],
        [
         "2",
         "NJ",
         "137",
         "415",
         "358-1921",
         "no",
         "no",
         "0",
         "243.4",
         "114",
         "41.38",
         "121.2",
         "110",
         "10.3",
         "162.6",
         "104",
         "7.32",
         "12.2",
         "5",
         "3.29",
         "0",
         "False"
        ],
        [
         "3",
         "OH",
         "84",
         "408",
         "375-9999",
         "yes",
         "no",
         "0",
         "299.4",
         "71",
         "50.9",
         "61.9",
         "88",
         "5.26",
         "196.9",
         "89",
         "8.86",
         "6.6",
         "7",
         "1.78",
         "2",
         "False"
        ],
        [
         "4",
         "OK",
         "75",
         "415",
         "330-6626",
         "yes",
         "no",
         "0",
         "166.7",
         "113",
         "28.34",
         "148.3",
         "122",
         "12.61",
         "186.9",
         "121",
         "8.41",
         "10.1",
         "3",
         "2.73",
         "3",
         "False"
        ]
       ],
       "shape": {
        "columns": 21,
        "rows": 5
       }
      },
      "text/html": [
       "<div>\n",
       "<style scoped>\n",
       "    .dataframe tbody tr th:only-of-type {\n",
       "        vertical-align: middle;\n",
       "    }\n",
       "\n",
       "    .dataframe tbody tr th {\n",
       "        vertical-align: top;\n",
       "    }\n",
       "\n",
       "    .dataframe thead th {\n",
       "        text-align: right;\n",
       "    }\n",
       "</style>\n",
       "<table border=\"1\" class=\"dataframe\">\n",
       "  <thead>\n",
       "    <tr style=\"text-align: right;\">\n",
       "      <th></th>\n",
       "      <th>state</th>\n",
       "      <th>account length</th>\n",
       "      <th>area code</th>\n",
       "      <th>phone number</th>\n",
       "      <th>international plan</th>\n",
       "      <th>voice mail plan</th>\n",
       "      <th>number vmail messages</th>\n",
       "      <th>total day minutes</th>\n",
       "      <th>total day calls</th>\n",
       "      <th>total day charge</th>\n",
       "      <th>...</th>\n",
       "      <th>total eve calls</th>\n",
       "      <th>total eve charge</th>\n",
       "      <th>total night minutes</th>\n",
       "      <th>total night calls</th>\n",
       "      <th>total night charge</th>\n",
       "      <th>total intl minutes</th>\n",
       "      <th>total intl calls</th>\n",
       "      <th>total intl charge</th>\n",
       "      <th>customer service calls</th>\n",
       "      <th>churn</th>\n",
       "    </tr>\n",
       "  </thead>\n",
       "  <tbody>\n",
       "    <tr>\n",
       "      <th>0</th>\n",
       "      <td>KS</td>\n",
       "      <td>128</td>\n",
       "      <td>415</td>\n",
       "      <td>382-4657</td>\n",
       "      <td>no</td>\n",
       "      <td>yes</td>\n",
       "      <td>25</td>\n",
       "      <td>265.1</td>\n",
       "      <td>110</td>\n",
       "      <td>45.07</td>\n",
       "      <td>...</td>\n",
       "      <td>99</td>\n",
       "      <td>16.78</td>\n",
       "      <td>244.7</td>\n",
       "      <td>91</td>\n",
       "      <td>11.01</td>\n",
       "      <td>10.0</td>\n",
       "      <td>3</td>\n",
       "      <td>2.70</td>\n",
       "      <td>1</td>\n",
       "      <td>False</td>\n",
       "    </tr>\n",
       "    <tr>\n",
       "      <th>1</th>\n",
       "      <td>OH</td>\n",
       "      <td>107</td>\n",
       "      <td>415</td>\n",
       "      <td>371-7191</td>\n",
       "      <td>no</td>\n",
       "      <td>yes</td>\n",
       "      <td>26</td>\n",
       "      <td>161.6</td>\n",
       "      <td>123</td>\n",
       "      <td>27.47</td>\n",
       "      <td>...</td>\n",
       "      <td>103</td>\n",
       "      <td>16.62</td>\n",
       "      <td>254.4</td>\n",
       "      <td>103</td>\n",
       "      <td>11.45</td>\n",
       "      <td>13.7</td>\n",
       "      <td>3</td>\n",
       "      <td>3.70</td>\n",
       "      <td>1</td>\n",
       "      <td>False</td>\n",
       "    </tr>\n",
       "    <tr>\n",
       "      <th>2</th>\n",
       "      <td>NJ</td>\n",
       "      <td>137</td>\n",
       "      <td>415</td>\n",
       "      <td>358-1921</td>\n",
       "      <td>no</td>\n",
       "      <td>no</td>\n",
       "      <td>0</td>\n",
       "      <td>243.4</td>\n",
       "      <td>114</td>\n",
       "      <td>41.38</td>\n",
       "      <td>...</td>\n",
       "      <td>110</td>\n",
       "      <td>10.30</td>\n",
       "      <td>162.6</td>\n",
       "      <td>104</td>\n",
       "      <td>7.32</td>\n",
       "      <td>12.2</td>\n",
       "      <td>5</td>\n",
       "      <td>3.29</td>\n",
       "      <td>0</td>\n",
       "      <td>False</td>\n",
       "    </tr>\n",
       "    <tr>\n",
       "      <th>3</th>\n",
       "      <td>OH</td>\n",
       "      <td>84</td>\n",
       "      <td>408</td>\n",
       "      <td>375-9999</td>\n",
       "      <td>yes</td>\n",
       "      <td>no</td>\n",
       "      <td>0</td>\n",
       "      <td>299.4</td>\n",
       "      <td>71</td>\n",
       "      <td>50.90</td>\n",
       "      <td>...</td>\n",
       "      <td>88</td>\n",
       "      <td>5.26</td>\n",
       "      <td>196.9</td>\n",
       "      <td>89</td>\n",
       "      <td>8.86</td>\n",
       "      <td>6.6</td>\n",
       "      <td>7</td>\n",
       "      <td>1.78</td>\n",
       "      <td>2</td>\n",
       "      <td>False</td>\n",
       "    </tr>\n",
       "    <tr>\n",
       "      <th>4</th>\n",
       "      <td>OK</td>\n",
       "      <td>75</td>\n",
       "      <td>415</td>\n",
       "      <td>330-6626</td>\n",
       "      <td>yes</td>\n",
       "      <td>no</td>\n",
       "      <td>0</td>\n",
       "      <td>166.7</td>\n",
       "      <td>113</td>\n",
       "      <td>28.34</td>\n",
       "      <td>...</td>\n",
       "      <td>122</td>\n",
       "      <td>12.61</td>\n",
       "      <td>186.9</td>\n",
       "      <td>121</td>\n",
       "      <td>8.41</td>\n",
       "      <td>10.1</td>\n",
       "      <td>3</td>\n",
       "      <td>2.73</td>\n",
       "      <td>3</td>\n",
       "      <td>False</td>\n",
       "    </tr>\n",
       "  </tbody>\n",
       "</table>\n",
       "<p>5 rows × 21 columns</p>\n",
       "</div>"
      ],
      "text/plain": [
       "  state  account length  area code phone number international plan  \\\n",
       "0    KS             128        415     382-4657                 no   \n",
       "1    OH             107        415     371-7191                 no   \n",
       "2    NJ             137        415     358-1921                 no   \n",
       "3    OH              84        408     375-9999                yes   \n",
       "4    OK              75        415     330-6626                yes   \n",
       "\n",
       "  voice mail plan  number vmail messages  total day minutes  total day calls  \\\n",
       "0             yes                     25              265.1              110   \n",
       "1             yes                     26              161.6              123   \n",
       "2              no                      0              243.4              114   \n",
       "3              no                      0              299.4               71   \n",
       "4              no                      0              166.7              113   \n",
       "\n",
       "   total day charge  ...  total eve calls  total eve charge  \\\n",
       "0             45.07  ...               99             16.78   \n",
       "1             27.47  ...              103             16.62   \n",
       "2             41.38  ...              110             10.30   \n",
       "3             50.90  ...               88              5.26   \n",
       "4             28.34  ...              122             12.61   \n",
       "\n",
       "   total night minutes  total night calls  total night charge  \\\n",
       "0                244.7                 91               11.01   \n",
       "1                254.4                103               11.45   \n",
       "2                162.6                104                7.32   \n",
       "3                196.9                 89                8.86   \n",
       "4                186.9                121                8.41   \n",
       "\n",
       "   total intl minutes  total intl calls  total intl charge  \\\n",
       "0                10.0                 3               2.70   \n",
       "1                13.7                 3               3.70   \n",
       "2                12.2                 5               3.29   \n",
       "3                 6.6                 7               1.78   \n",
       "4                10.1                 3               2.73   \n",
       "\n",
       "   customer service calls  churn  \n",
       "0                       1  False  \n",
       "1                       1  False  \n",
       "2                       0  False  \n",
       "3                       2  False  \n",
       "4                       3  False  \n",
       "\n",
       "[5 rows x 21 columns]"
      ]
     },
     "execution_count": 2,
     "metadata": {},
     "output_type": "execute_result"
    }
   ],
   "source": [
    "df = pd.read_csv('customer-churn.csv')\n",
    "df.head()"
   ]
  },
  {
   "cell_type": "code",
   "execution_count": 3,
   "id": "ca8911f9",
   "metadata": {},
   "outputs": [
    {
     "data": {
      "text/plain": [
       "Index(['state', 'account length', 'area code', 'phone number',\n",
       "       'international plan', 'voice mail plan', 'number vmail messages',\n",
       "       'total day minutes', 'total day calls', 'total day charge',\n",
       "       'total eve minutes', 'total eve calls', 'total eve charge',\n",
       "       'total night minutes', 'total night calls', 'total night charge',\n",
       "       'total intl minutes', 'total intl calls', 'total intl charge',\n",
       "       'customer service calls', 'churn'],\n",
       "      dtype='object')"
      ]
     },
     "execution_count": 3,
     "metadata": {},
     "output_type": "execute_result"
    }
   ],
   "source": [
    "df.columns"
   ]
  },
  {
   "cell_type": "code",
   "execution_count": 4,
   "id": "d2d73df0",
   "metadata": {},
   "outputs": [
    {
     "name": "stdout",
     "output_type": "stream",
     "text": [
      "<class 'pandas.core.frame.DataFrame'>\n",
      "RangeIndex: 3333 entries, 0 to 3332\n",
      "Data columns (total 21 columns):\n",
      " #   Column                  Non-Null Count  Dtype  \n",
      "---  ------                  --------------  -----  \n",
      " 0   state                   3333 non-null   object \n",
      " 1   account length          3333 non-null   int64  \n",
      " 2   area code               3333 non-null   int64  \n",
      " 3   phone number            3333 non-null   object \n",
      " 4   international plan      3333 non-null   object \n",
      " 5   voice mail plan         3333 non-null   object \n",
      " 6   number vmail messages   3333 non-null   int64  \n",
      " 7   total day minutes       3333 non-null   float64\n",
      " 8   total day calls         3333 non-null   int64  \n",
      " 9   total day charge        3333 non-null   float64\n",
      " 10  total eve minutes       3333 non-null   float64\n",
      " 11  total eve calls         3333 non-null   int64  \n",
      " 12  total eve charge        3333 non-null   float64\n",
      " 13  total night minutes     3333 non-null   float64\n",
      " 14  total night calls       3333 non-null   int64  \n",
      " 15  total night charge      3333 non-null   float64\n",
      " 16  total intl minutes      3333 non-null   float64\n",
      " 17  total intl calls        3333 non-null   int64  \n",
      " 18  total intl charge       3333 non-null   float64\n",
      " 19  customer service calls  3333 non-null   int64  \n",
      " 20  churn                   3333 non-null   bool   \n",
      "dtypes: bool(1), float64(8), int64(8), object(4)\n",
      "memory usage: 524.2+ KB\n"
     ]
    }
   ],
   "source": [
    "df.info()"
   ]
  },
  {
   "cell_type": "code",
   "execution_count": 5,
   "id": "ea20e852",
   "metadata": {},
   "outputs": [
    {
     "data": {
      "application/vnd.microsoft.datawrangler.viewer.v0+json": {
       "columns": [
        {
         "name": "index",
         "rawType": "object",
         "type": "string"
        },
        {
         "name": "account length",
         "rawType": "float64",
         "type": "float"
        },
        {
         "name": "area code",
         "rawType": "float64",
         "type": "float"
        },
        {
         "name": "number vmail messages",
         "rawType": "float64",
         "type": "float"
        },
        {
         "name": "total day minutes",
         "rawType": "float64",
         "type": "float"
        },
        {
         "name": "total day calls",
         "rawType": "float64",
         "type": "float"
        },
        {
         "name": "total day charge",
         "rawType": "float64",
         "type": "float"
        },
        {
         "name": "total eve minutes",
         "rawType": "float64",
         "type": "float"
        },
        {
         "name": "total eve calls",
         "rawType": "float64",
         "type": "float"
        },
        {
         "name": "total eve charge",
         "rawType": "float64",
         "type": "float"
        },
        {
         "name": "total night minutes",
         "rawType": "float64",
         "type": "float"
        },
        {
         "name": "total night calls",
         "rawType": "float64",
         "type": "float"
        },
        {
         "name": "total night charge",
         "rawType": "float64",
         "type": "float"
        },
        {
         "name": "total intl minutes",
         "rawType": "float64",
         "type": "float"
        },
        {
         "name": "total intl calls",
         "rawType": "float64",
         "type": "float"
        },
        {
         "name": "total intl charge",
         "rawType": "float64",
         "type": "float"
        },
        {
         "name": "customer service calls",
         "rawType": "float64",
         "type": "float"
        }
       ],
       "ref": "1c6b8992-d624-4934-a876-f676f7791582",
       "rows": [
        [
         "count",
         "3333.0",
         "3333.0",
         "3333.0",
         "3333.0",
         "3333.0",
         "3333.0",
         "3333.0",
         "3333.0",
         "3333.0",
         "3333.0",
         "3333.0",
         "3333.0",
         "3333.0",
         "3333.0",
         "3333.0",
         "3333.0"
        ],
        [
         "mean",
         "101.06480648064806",
         "437.18241824182417",
         "8.099009900990099",
         "179.77509750975094",
         "100.43564356435644",
         "30.562307230723075",
         "200.98034803480348",
         "100.11431143114311",
         "17.083540354035403",
         "200.87203720372037",
         "100.10771077107711",
         "9.03932493249325",
         "10.237293729372938",
         "4.4794479447944795",
         "2.7645814581458144",
         "1.5628562856285628"
        ],
        [
         "std",
         "39.822105928595604",
         "42.371290485606615",
         "13.688365372038598",
         "54.46738920237137",
         "20.069084207300897",
         "9.2594345539305",
         "50.713844425812",
         "19.922625293943103",
         "4.310667643110341",
         "50.57384701365836",
         "19.568609346058558",
         "2.275872837660029",
         "2.791839548408416",
         "2.461214270546094",
         "0.753772612663046",
         "1.3154910448664767"
        ],
        [
         "min",
         "1.0",
         "408.0",
         "0.0",
         "0.0",
         "0.0",
         "0.0",
         "0.0",
         "0.0",
         "0.0",
         "23.2",
         "33.0",
         "1.04",
         "0.0",
         "0.0",
         "0.0",
         "0.0"
        ],
        [
         "25%",
         "74.0",
         "408.0",
         "0.0",
         "143.7",
         "87.0",
         "24.43",
         "166.6",
         "87.0",
         "14.16",
         "167.0",
         "87.0",
         "7.52",
         "8.5",
         "3.0",
         "2.3",
         "1.0"
        ],
        [
         "50%",
         "101.0",
         "415.0",
         "0.0",
         "179.4",
         "101.0",
         "30.5",
         "201.4",
         "100.0",
         "17.12",
         "201.2",
         "100.0",
         "9.05",
         "10.3",
         "4.0",
         "2.78",
         "1.0"
        ],
        [
         "75%",
         "127.0",
         "510.0",
         "20.0",
         "216.4",
         "114.0",
         "36.79",
         "235.3",
         "114.0",
         "20.0",
         "235.3",
         "113.0",
         "10.59",
         "12.1",
         "6.0",
         "3.27",
         "2.0"
        ],
        [
         "max",
         "243.0",
         "510.0",
         "51.0",
         "350.8",
         "165.0",
         "59.64",
         "363.7",
         "170.0",
         "30.91",
         "395.0",
         "175.0",
         "17.77",
         "20.0",
         "20.0",
         "5.4",
         "9.0"
        ]
       ],
       "shape": {
        "columns": 16,
        "rows": 8
       }
      },
      "text/html": [
       "<div>\n",
       "<style scoped>\n",
       "    .dataframe tbody tr th:only-of-type {\n",
       "        vertical-align: middle;\n",
       "    }\n",
       "\n",
       "    .dataframe tbody tr th {\n",
       "        vertical-align: top;\n",
       "    }\n",
       "\n",
       "    .dataframe thead th {\n",
       "        text-align: right;\n",
       "    }\n",
       "</style>\n",
       "<table border=\"1\" class=\"dataframe\">\n",
       "  <thead>\n",
       "    <tr style=\"text-align: right;\">\n",
       "      <th></th>\n",
       "      <th>account length</th>\n",
       "      <th>area code</th>\n",
       "      <th>number vmail messages</th>\n",
       "      <th>total day minutes</th>\n",
       "      <th>total day calls</th>\n",
       "      <th>total day charge</th>\n",
       "      <th>total eve minutes</th>\n",
       "      <th>total eve calls</th>\n",
       "      <th>total eve charge</th>\n",
       "      <th>total night minutes</th>\n",
       "      <th>total night calls</th>\n",
       "      <th>total night charge</th>\n",
       "      <th>total intl minutes</th>\n",
       "      <th>total intl calls</th>\n",
       "      <th>total intl charge</th>\n",
       "      <th>customer service calls</th>\n",
       "    </tr>\n",
       "  </thead>\n",
       "  <tbody>\n",
       "    <tr>\n",
       "      <th>count</th>\n",
       "      <td>3333.000000</td>\n",
       "      <td>3333.000000</td>\n",
       "      <td>3333.000000</td>\n",
       "      <td>3333.000000</td>\n",
       "      <td>3333.000000</td>\n",
       "      <td>3333.000000</td>\n",
       "      <td>3333.000000</td>\n",
       "      <td>3333.000000</td>\n",
       "      <td>3333.000000</td>\n",
       "      <td>3333.000000</td>\n",
       "      <td>3333.000000</td>\n",
       "      <td>3333.000000</td>\n",
       "      <td>3333.000000</td>\n",
       "      <td>3333.000000</td>\n",
       "      <td>3333.000000</td>\n",
       "      <td>3333.000000</td>\n",
       "    </tr>\n",
       "    <tr>\n",
       "      <th>mean</th>\n",
       "      <td>101.064806</td>\n",
       "      <td>437.182418</td>\n",
       "      <td>8.099010</td>\n",
       "      <td>179.775098</td>\n",
       "      <td>100.435644</td>\n",
       "      <td>30.562307</td>\n",
       "      <td>200.980348</td>\n",
       "      <td>100.114311</td>\n",
       "      <td>17.083540</td>\n",
       "      <td>200.872037</td>\n",
       "      <td>100.107711</td>\n",
       "      <td>9.039325</td>\n",
       "      <td>10.237294</td>\n",
       "      <td>4.479448</td>\n",
       "      <td>2.764581</td>\n",
       "      <td>1.562856</td>\n",
       "    </tr>\n",
       "    <tr>\n",
       "      <th>std</th>\n",
       "      <td>39.822106</td>\n",
       "      <td>42.371290</td>\n",
       "      <td>13.688365</td>\n",
       "      <td>54.467389</td>\n",
       "      <td>20.069084</td>\n",
       "      <td>9.259435</td>\n",
       "      <td>50.713844</td>\n",
       "      <td>19.922625</td>\n",
       "      <td>4.310668</td>\n",
       "      <td>50.573847</td>\n",
       "      <td>19.568609</td>\n",
       "      <td>2.275873</td>\n",
       "      <td>2.791840</td>\n",
       "      <td>2.461214</td>\n",
       "      <td>0.753773</td>\n",
       "      <td>1.315491</td>\n",
       "    </tr>\n",
       "    <tr>\n",
       "      <th>min</th>\n",
       "      <td>1.000000</td>\n",
       "      <td>408.000000</td>\n",
       "      <td>0.000000</td>\n",
       "      <td>0.000000</td>\n",
       "      <td>0.000000</td>\n",
       "      <td>0.000000</td>\n",
       "      <td>0.000000</td>\n",
       "      <td>0.000000</td>\n",
       "      <td>0.000000</td>\n",
       "      <td>23.200000</td>\n",
       "      <td>33.000000</td>\n",
       "      <td>1.040000</td>\n",
       "      <td>0.000000</td>\n",
       "      <td>0.000000</td>\n",
       "      <td>0.000000</td>\n",
       "      <td>0.000000</td>\n",
       "    </tr>\n",
       "    <tr>\n",
       "      <th>25%</th>\n",
       "      <td>74.000000</td>\n",
       "      <td>408.000000</td>\n",
       "      <td>0.000000</td>\n",
       "      <td>143.700000</td>\n",
       "      <td>87.000000</td>\n",
       "      <td>24.430000</td>\n",
       "      <td>166.600000</td>\n",
       "      <td>87.000000</td>\n",
       "      <td>14.160000</td>\n",
       "      <td>167.000000</td>\n",
       "      <td>87.000000</td>\n",
       "      <td>7.520000</td>\n",
       "      <td>8.500000</td>\n",
       "      <td>3.000000</td>\n",
       "      <td>2.300000</td>\n",
       "      <td>1.000000</td>\n",
       "    </tr>\n",
       "    <tr>\n",
       "      <th>50%</th>\n",
       "      <td>101.000000</td>\n",
       "      <td>415.000000</td>\n",
       "      <td>0.000000</td>\n",
       "      <td>179.400000</td>\n",
       "      <td>101.000000</td>\n",
       "      <td>30.500000</td>\n",
       "      <td>201.400000</td>\n",
       "      <td>100.000000</td>\n",
       "      <td>17.120000</td>\n",
       "      <td>201.200000</td>\n",
       "      <td>100.000000</td>\n",
       "      <td>9.050000</td>\n",
       "      <td>10.300000</td>\n",
       "      <td>4.000000</td>\n",
       "      <td>2.780000</td>\n",
       "      <td>1.000000</td>\n",
       "    </tr>\n",
       "    <tr>\n",
       "      <th>75%</th>\n",
       "      <td>127.000000</td>\n",
       "      <td>510.000000</td>\n",
       "      <td>20.000000</td>\n",
       "      <td>216.400000</td>\n",
       "      <td>114.000000</td>\n",
       "      <td>36.790000</td>\n",
       "      <td>235.300000</td>\n",
       "      <td>114.000000</td>\n",
       "      <td>20.000000</td>\n",
       "      <td>235.300000</td>\n",
       "      <td>113.000000</td>\n",
       "      <td>10.590000</td>\n",
       "      <td>12.100000</td>\n",
       "      <td>6.000000</td>\n",
       "      <td>3.270000</td>\n",
       "      <td>2.000000</td>\n",
       "    </tr>\n",
       "    <tr>\n",
       "      <th>max</th>\n",
       "      <td>243.000000</td>\n",
       "      <td>510.000000</td>\n",
       "      <td>51.000000</td>\n",
       "      <td>350.800000</td>\n",
       "      <td>165.000000</td>\n",
       "      <td>59.640000</td>\n",
       "      <td>363.700000</td>\n",
       "      <td>170.000000</td>\n",
       "      <td>30.910000</td>\n",
       "      <td>395.000000</td>\n",
       "      <td>175.000000</td>\n",
       "      <td>17.770000</td>\n",
       "      <td>20.000000</td>\n",
       "      <td>20.000000</td>\n",
       "      <td>5.400000</td>\n",
       "      <td>9.000000</td>\n",
       "    </tr>\n",
       "  </tbody>\n",
       "</table>\n",
       "</div>"
      ],
      "text/plain": [
       "       account length    area code  number vmail messages  total day minutes  \\\n",
       "count     3333.000000  3333.000000            3333.000000        3333.000000   \n",
       "mean       101.064806   437.182418               8.099010         179.775098   \n",
       "std         39.822106    42.371290              13.688365          54.467389   \n",
       "min          1.000000   408.000000               0.000000           0.000000   \n",
       "25%         74.000000   408.000000               0.000000         143.700000   \n",
       "50%        101.000000   415.000000               0.000000         179.400000   \n",
       "75%        127.000000   510.000000              20.000000         216.400000   \n",
       "max        243.000000   510.000000              51.000000         350.800000   \n",
       "\n",
       "       total day calls  total day charge  total eve minutes  total eve calls  \\\n",
       "count      3333.000000       3333.000000        3333.000000      3333.000000   \n",
       "mean        100.435644         30.562307         200.980348       100.114311   \n",
       "std          20.069084          9.259435          50.713844        19.922625   \n",
       "min           0.000000          0.000000           0.000000         0.000000   \n",
       "25%          87.000000         24.430000         166.600000        87.000000   \n",
       "50%         101.000000         30.500000         201.400000       100.000000   \n",
       "75%         114.000000         36.790000         235.300000       114.000000   \n",
       "max         165.000000         59.640000         363.700000       170.000000   \n",
       "\n",
       "       total eve charge  total night minutes  total night calls  \\\n",
       "count       3333.000000          3333.000000        3333.000000   \n",
       "mean          17.083540           200.872037         100.107711   \n",
       "std            4.310668            50.573847          19.568609   \n",
       "min            0.000000            23.200000          33.000000   \n",
       "25%           14.160000           167.000000          87.000000   \n",
       "50%           17.120000           201.200000         100.000000   \n",
       "75%           20.000000           235.300000         113.000000   \n",
       "max           30.910000           395.000000         175.000000   \n",
       "\n",
       "       total night charge  total intl minutes  total intl calls  \\\n",
       "count         3333.000000         3333.000000       3333.000000   \n",
       "mean             9.039325           10.237294          4.479448   \n",
       "std              2.275873            2.791840          2.461214   \n",
       "min              1.040000            0.000000          0.000000   \n",
       "25%              7.520000            8.500000          3.000000   \n",
       "50%              9.050000           10.300000          4.000000   \n",
       "75%             10.590000           12.100000          6.000000   \n",
       "max             17.770000           20.000000         20.000000   \n",
       "\n",
       "       total intl charge  customer service calls  \n",
       "count        3333.000000             3333.000000  \n",
       "mean            2.764581                1.562856  \n",
       "std             0.753773                1.315491  \n",
       "min             0.000000                0.000000  \n",
       "25%             2.300000                1.000000  \n",
       "50%             2.780000                1.000000  \n",
       "75%             3.270000                2.000000  \n",
       "max             5.400000                9.000000  "
      ]
     },
     "execution_count": 5,
     "metadata": {},
     "output_type": "execute_result"
    }
   ],
   "source": [
    "# statistical summary\n",
    "df.describe()"
   ]
  },
  {
   "cell_type": "markdown",
   "id": "2b5d4eaa",
   "metadata": {},
   "source": [
    "## Data Preparation\n",
    "Before analysis and modeling, it is essential to clean the dataset to ensure accuracy and reliability. In this step, I handle missing values, remove irrelevant features and convert categorical variables and numerical formats. This prepares the data for effective exploration and model building."
   ]
  },
  {
   "cell_type": "code",
   "execution_count": 6,
   "id": "6cd8de7c",
   "metadata": {},
   "outputs": [],
   "source": [
    "# drop irrelevant columns\n",
    "df.drop(columns=['phone number', 'state', 'area code'], axis =1, inplace=True )"
   ]
  },
  {
   "cell_type": "code",
   "execution_count": 7,
   "id": "be96b1fb",
   "metadata": {},
   "outputs": [
    {
     "data": {
      "text/plain": [
       "0"
      ]
     },
     "execution_count": 7,
     "metadata": {},
     "output_type": "execute_result"
    }
   ],
   "source": [
    "# checking for duplicates\n",
    "df.duplicated().sum()"
   ]
  },
  {
   "cell_type": "code",
   "execution_count": 8,
   "id": "1f37ede9",
   "metadata": {},
   "outputs": [
    {
     "data": {
      "application/vnd.microsoft.datawrangler.viewer.v0+json": {
       "columns": [
        {
         "name": "index",
         "rawType": "object",
         "type": "string"
        },
        {
         "name": "0",
         "rawType": "int64",
         "type": "integer"
        }
       ],
       "ref": "066d3c24-ccf2-4249-a7f5-449be830c5a2",
       "rows": [
        [
         "account length",
         "0"
        ],
        [
         "international plan",
         "0"
        ],
        [
         "voice mail plan",
         "0"
        ],
        [
         "number vmail messages",
         "0"
        ],
        [
         "total day minutes",
         "0"
        ],
        [
         "total day calls",
         "0"
        ],
        [
         "total day charge",
         "0"
        ],
        [
         "total eve minutes",
         "0"
        ],
        [
         "total eve calls",
         "0"
        ],
        [
         "total eve charge",
         "0"
        ],
        [
         "total night minutes",
         "0"
        ],
        [
         "total night calls",
         "0"
        ],
        [
         "total night charge",
         "0"
        ],
        [
         "total intl minutes",
         "0"
        ],
        [
         "total intl calls",
         "0"
        ],
        [
         "total intl charge",
         "0"
        ],
        [
         "customer service calls",
         "0"
        ],
        [
         "churn",
         "0"
        ]
       ],
       "shape": {
        "columns": 1,
        "rows": 18
       }
      },
      "text/plain": [
       "account length            0\n",
       "international plan        0\n",
       "voice mail plan           0\n",
       "number vmail messages     0\n",
       "total day minutes         0\n",
       "total day calls           0\n",
       "total day charge          0\n",
       "total eve minutes         0\n",
       "total eve calls           0\n",
       "total eve charge          0\n",
       "total night minutes       0\n",
       "total night calls         0\n",
       "total night charge        0\n",
       "total intl minutes        0\n",
       "total intl calls          0\n",
       "total intl charge         0\n",
       "customer service calls    0\n",
       "churn                     0\n",
       "dtype: int64"
      ]
     },
     "execution_count": 8,
     "metadata": {},
     "output_type": "execute_result"
    }
   ],
   "source": [
    "# Check for missing values\n",
    "df.isna().sum()"
   ]
  },
  {
   "cell_type": "code",
   "execution_count": 9,
   "id": "bc9af56f",
   "metadata": {},
   "outputs": [],
   "source": [
    "# Convert boolean to integer\n",
    "df['churn'] = df['churn'].astype(int)"
   ]
  },
  {
   "cell_type": "code",
   "execution_count": 10,
   "id": "28d100dd",
   "metadata": {},
   "outputs": [],
   "source": [
    "# encoding the categorical features\n",
    "categorical = ['international plan', 'voice mail plan', 'churn']\n",
    "\n",
    "encoder = OneHotEncoder(drop='first', sparse=False)\n",
    "\n",
    "# fit and transform the categorical columns\n",
    "encoded_array = encoder.fit_transform(df[categorical])\n",
    "\n",
    "# encoded feature names\n",
    "encoded_cols = encoder.get_feature_names(categorical)\n"
   ]
  },
  {
   "cell_type": "code",
   "execution_count": 11,
   "id": "1016a5b7",
   "metadata": {},
   "outputs": [],
   "source": [
    "# convert to dataframe\n",
    "encoded_df = pd.DataFrame(encoded_array, columns=encoded_cols, index=df.index)\n",
    "\n",
    "# Drop original categorical columns and concatenate the encoded DataFrame\n",
    "df_encoded = pd.concat([df.drop(columns=categorical), encoded_df], axis=1)"
   ]
  },
  {
   "cell_type": "code",
   "execution_count": 12,
   "id": "a7d5e234",
   "metadata": {},
   "outputs": [
    {
     "data": {
      "application/vnd.microsoft.datawrangler.viewer.v0+json": {
       "columns": [
        {
         "name": "index",
         "rawType": "int64",
         "type": "integer"
        },
        {
         "name": "account length",
         "rawType": "int64",
         "type": "integer"
        },
        {
         "name": "number vmail messages",
         "rawType": "int64",
         "type": "integer"
        },
        {
         "name": "total day minutes",
         "rawType": "float64",
         "type": "float"
        },
        {
         "name": "total day calls",
         "rawType": "int64",
         "type": "integer"
        },
        {
         "name": "total day charge",
         "rawType": "float64",
         "type": "float"
        },
        {
         "name": "total eve minutes",
         "rawType": "float64",
         "type": "float"
        },
        {
         "name": "total eve calls",
         "rawType": "int64",
         "type": "integer"
        },
        {
         "name": "total eve charge",
         "rawType": "float64",
         "type": "float"
        },
        {
         "name": "total night minutes",
         "rawType": "float64",
         "type": "float"
        },
        {
         "name": "total night calls",
         "rawType": "int64",
         "type": "integer"
        },
        {
         "name": "total night charge",
         "rawType": "float64",
         "type": "float"
        },
        {
         "name": "total intl minutes",
         "rawType": "float64",
         "type": "float"
        },
        {
         "name": "total intl calls",
         "rawType": "int64",
         "type": "integer"
        },
        {
         "name": "total intl charge",
         "rawType": "float64",
         "type": "float"
        },
        {
         "name": "customer service calls",
         "rawType": "int64",
         "type": "integer"
        },
        {
         "name": "international plan_yes",
         "rawType": "float64",
         "type": "float"
        },
        {
         "name": "voice mail plan_yes",
         "rawType": "float64",
         "type": "float"
        },
        {
         "name": "churn_1",
         "rawType": "float64",
         "type": "float"
        }
       ],
       "ref": "df7d4239-6c40-4547-aa6d-be073222f3bb",
       "rows": [
        [
         "0",
         "128",
         "25",
         "265.1",
         "110",
         "45.07",
         "197.4",
         "99",
         "16.78",
         "244.7",
         "91",
         "11.01",
         "10.0",
         "3",
         "2.7",
         "1",
         "0.0",
         "1.0",
         "0.0"
        ],
        [
         "1",
         "107",
         "26",
         "161.6",
         "123",
         "27.47",
         "195.5",
         "103",
         "16.62",
         "254.4",
         "103",
         "11.45",
         "13.7",
         "3",
         "3.7",
         "1",
         "0.0",
         "1.0",
         "0.0"
        ],
        [
         "2",
         "137",
         "0",
         "243.4",
         "114",
         "41.38",
         "121.2",
         "110",
         "10.3",
         "162.6",
         "104",
         "7.32",
         "12.2",
         "5",
         "3.29",
         "0",
         "0.0",
         "0.0",
         "0.0"
        ],
        [
         "3",
         "84",
         "0",
         "299.4",
         "71",
         "50.9",
         "61.9",
         "88",
         "5.26",
         "196.9",
         "89",
         "8.86",
         "6.6",
         "7",
         "1.78",
         "2",
         "1.0",
         "0.0",
         "0.0"
        ],
        [
         "4",
         "75",
         "0",
         "166.7",
         "113",
         "28.34",
         "148.3",
         "122",
         "12.61",
         "186.9",
         "121",
         "8.41",
         "10.1",
         "3",
         "2.73",
         "3",
         "1.0",
         "0.0",
         "0.0"
        ],
        [
         "5",
         "118",
         "0",
         "223.4",
         "98",
         "37.98",
         "220.6",
         "101",
         "18.75",
         "203.9",
         "118",
         "9.18",
         "6.3",
         "6",
         "1.7",
         "0",
         "1.0",
         "0.0",
         "0.0"
        ],
        [
         "6",
         "121",
         "24",
         "218.2",
         "88",
         "37.09",
         "348.5",
         "108",
         "29.62",
         "212.6",
         "118",
         "9.57",
         "7.5",
         "7",
         "2.03",
         "3",
         "0.0",
         "1.0",
         "0.0"
        ],
        [
         "7",
         "147",
         "0",
         "157.0",
         "79",
         "26.69",
         "103.1",
         "94",
         "8.76",
         "211.8",
         "96",
         "9.53",
         "7.1",
         "6",
         "1.92",
         "0",
         "1.0",
         "0.0",
         "0.0"
        ],
        [
         "8",
         "117",
         "0",
         "184.5",
         "97",
         "31.37",
         "351.6",
         "80",
         "29.89",
         "215.8",
         "90",
         "9.71",
         "8.7",
         "4",
         "2.35",
         "1",
         "0.0",
         "0.0",
         "0.0"
        ],
        [
         "9",
         "141",
         "37",
         "258.6",
         "84",
         "43.96",
         "222.0",
         "111",
         "18.87",
         "326.4",
         "97",
         "14.69",
         "11.2",
         "5",
         "3.02",
         "0",
         "1.0",
         "1.0",
         "0.0"
        ],
        [
         "10",
         "65",
         "0",
         "129.1",
         "137",
         "21.95",
         "228.5",
         "83",
         "19.42",
         "208.8",
         "111",
         "9.4",
         "12.7",
         "6",
         "3.43",
         "4",
         "0.0",
         "0.0",
         "1.0"
        ],
        [
         "11",
         "74",
         "0",
         "187.7",
         "127",
         "31.91",
         "163.4",
         "148",
         "13.89",
         "196.0",
         "94",
         "8.82",
         "9.1",
         "5",
         "2.46",
         "0",
         "0.0",
         "0.0",
         "0.0"
        ],
        [
         "12",
         "168",
         "0",
         "128.8",
         "96",
         "21.9",
         "104.9",
         "71",
         "8.92",
         "141.1",
         "128",
         "6.35",
         "11.2",
         "2",
         "3.02",
         "1",
         "0.0",
         "0.0",
         "0.0"
        ],
        [
         "13",
         "95",
         "0",
         "156.6",
         "88",
         "26.62",
         "247.6",
         "75",
         "21.05",
         "192.3",
         "115",
         "8.65",
         "12.3",
         "5",
         "3.32",
         "3",
         "0.0",
         "0.0",
         "0.0"
        ],
        [
         "14",
         "62",
         "0",
         "120.7",
         "70",
         "20.52",
         "307.2",
         "76",
         "26.11",
         "203.0",
         "99",
         "9.14",
         "13.1",
         "6",
         "3.54",
         "4",
         "0.0",
         "0.0",
         "0.0"
        ],
        [
         "15",
         "161",
         "0",
         "332.9",
         "67",
         "56.59",
         "317.8",
         "97",
         "27.01",
         "160.6",
         "128",
         "7.23",
         "5.4",
         "9",
         "1.46",
         "4",
         "0.0",
         "0.0",
         "1.0"
        ],
        [
         "16",
         "85",
         "27",
         "196.4",
         "139",
         "33.39",
         "280.9",
         "90",
         "23.88",
         "89.3",
         "75",
         "4.02",
         "13.8",
         "4",
         "3.73",
         "1",
         "0.0",
         "1.0",
         "0.0"
        ],
        [
         "17",
         "93",
         "0",
         "190.7",
         "114",
         "32.42",
         "218.2",
         "111",
         "18.55",
         "129.6",
         "121",
         "5.83",
         "8.1",
         "3",
         "2.19",
         "3",
         "0.0",
         "0.0",
         "0.0"
        ],
        [
         "18",
         "76",
         "33",
         "189.7",
         "66",
         "32.25",
         "212.8",
         "65",
         "18.09",
         "165.7",
         "108",
         "7.46",
         "10.0",
         "5",
         "2.7",
         "1",
         "0.0",
         "1.0",
         "0.0"
        ],
        [
         "19",
         "73",
         "0",
         "224.4",
         "90",
         "38.15",
         "159.5",
         "88",
         "13.56",
         "192.8",
         "74",
         "8.68",
         "13.0",
         "2",
         "3.51",
         "1",
         "0.0",
         "0.0",
         "0.0"
        ],
        [
         "20",
         "147",
         "0",
         "155.1",
         "117",
         "26.37",
         "239.7",
         "93",
         "20.37",
         "208.8",
         "133",
         "9.4",
         "10.6",
         "4",
         "2.86",
         "0",
         "0.0",
         "0.0",
         "0.0"
        ],
        [
         "21",
         "77",
         "0",
         "62.4",
         "89",
         "10.61",
         "169.9",
         "121",
         "14.44",
         "209.6",
         "64",
         "9.43",
         "5.7",
         "6",
         "1.54",
         "5",
         "0.0",
         "0.0",
         "1.0"
        ],
        [
         "22",
         "130",
         "0",
         "183.0",
         "112",
         "31.11",
         "72.9",
         "99",
         "6.2",
         "181.8",
         "78",
         "8.18",
         "9.5",
         "19",
         "2.57",
         "0",
         "0.0",
         "0.0",
         "0.0"
        ],
        [
         "23",
         "111",
         "0",
         "110.4",
         "103",
         "18.77",
         "137.3",
         "102",
         "11.67",
         "189.6",
         "105",
         "8.53",
         "7.7",
         "6",
         "2.08",
         "2",
         "0.0",
         "0.0",
         "0.0"
        ],
        [
         "24",
         "132",
         "0",
         "81.1",
         "86",
         "13.79",
         "245.2",
         "72",
         "20.84",
         "237.0",
         "115",
         "10.67",
         "10.3",
         "2",
         "2.78",
         "0",
         "0.0",
         "0.0",
         "0.0"
        ],
        [
         "25",
         "174",
         "0",
         "124.3",
         "76",
         "21.13",
         "277.1",
         "112",
         "23.55",
         "250.7",
         "115",
         "11.28",
         "15.5",
         "5",
         "4.19",
         "3",
         "0.0",
         "0.0",
         "0.0"
        ],
        [
         "26",
         "57",
         "39",
         "213.0",
         "115",
         "36.21",
         "191.1",
         "112",
         "16.24",
         "182.7",
         "115",
         "8.22",
         "9.5",
         "3",
         "2.57",
         "0",
         "0.0",
         "1.0",
         "0.0"
        ],
        [
         "27",
         "54",
         "0",
         "134.3",
         "73",
         "22.83",
         "155.5",
         "100",
         "13.22",
         "102.1",
         "68",
         "4.59",
         "14.7",
         "4",
         "3.97",
         "3",
         "0.0",
         "0.0",
         "0.0"
        ],
        [
         "28",
         "20",
         "0",
         "190.0",
         "109",
         "32.3",
         "258.2",
         "84",
         "21.95",
         "181.5",
         "102",
         "8.17",
         "6.3",
         "6",
         "1.7",
         "0",
         "0.0",
         "0.0",
         "0.0"
        ],
        [
         "29",
         "49",
         "0",
         "119.3",
         "117",
         "20.28",
         "215.1",
         "109",
         "18.28",
         "178.7",
         "90",
         "8.04",
         "11.1",
         "1",
         "3.0",
         "1",
         "0.0",
         "0.0",
         "0.0"
        ],
        [
         "30",
         "142",
         "0",
         "84.8",
         "95",
         "14.42",
         "136.7",
         "63",
         "11.62",
         "250.5",
         "148",
         "11.27",
         "14.2",
         "6",
         "3.83",
         "2",
         "0.0",
         "0.0",
         "0.0"
        ],
        [
         "31",
         "75",
         "0",
         "226.1",
         "105",
         "38.44",
         "201.5",
         "107",
         "17.13",
         "246.2",
         "98",
         "11.08",
         "10.3",
         "5",
         "2.78",
         "1",
         "0.0",
         "0.0",
         "0.0"
        ],
        [
         "32",
         "172",
         "0",
         "212.0",
         "121",
         "36.04",
         "31.2",
         "115",
         "2.65",
         "293.3",
         "78",
         "13.2",
         "12.6",
         "10",
         "3.4",
         "3",
         "0.0",
         "0.0",
         "0.0"
        ],
        [
         "33",
         "12",
         "0",
         "249.6",
         "118",
         "42.43",
         "252.4",
         "119",
         "21.45",
         "280.2",
         "90",
         "12.61",
         "11.8",
         "3",
         "3.19",
         "1",
         "0.0",
         "0.0",
         "1.0"
        ],
        [
         "34",
         "57",
         "25",
         "176.8",
         "94",
         "30.06",
         "195.0",
         "75",
         "16.58",
         "213.5",
         "116",
         "9.61",
         "8.3",
         "4",
         "2.24",
         "0",
         "0.0",
         "1.0",
         "0.0"
        ],
        [
         "35",
         "72",
         "37",
         "220.0",
         "80",
         "37.4",
         "217.3",
         "102",
         "18.47",
         "152.8",
         "71",
         "6.88",
         "14.7",
         "6",
         "3.97",
         "3",
         "0.0",
         "1.0",
         "0.0"
        ],
        [
         "36",
         "36",
         "30",
         "146.3",
         "128",
         "24.87",
         "162.5",
         "80",
         "13.81",
         "129.3",
         "109",
         "5.82",
         "14.5",
         "6",
         "3.92",
         "0",
         "0.0",
         "1.0",
         "0.0"
        ],
        [
         "37",
         "78",
         "0",
         "130.8",
         "64",
         "22.24",
         "223.7",
         "116",
         "19.01",
         "227.8",
         "108",
         "10.25",
         "10.0",
         "5",
         "2.7",
         "1",
         "0.0",
         "0.0",
         "0.0"
        ],
        [
         "38",
         "136",
         "33",
         "203.9",
         "106",
         "34.66",
         "187.6",
         "99",
         "15.95",
         "101.7",
         "107",
         "4.58",
         "10.5",
         "6",
         "2.84",
         "3",
         "1.0",
         "1.0",
         "0.0"
        ],
        [
         "39",
         "149",
         "0",
         "140.4",
         "94",
         "23.87",
         "271.8",
         "92",
         "23.1",
         "188.3",
         "108",
         "8.47",
         "11.1",
         "9",
         "3.0",
         "1",
         "0.0",
         "0.0",
         "0.0"
        ],
        [
         "40",
         "98",
         "0",
         "126.3",
         "102",
         "21.47",
         "166.8",
         "85",
         "14.18",
         "187.8",
         "135",
         "8.45",
         "9.4",
         "2",
         "2.54",
         "3",
         "0.0",
         "0.0",
         "0.0"
        ],
        [
         "41",
         "135",
         "41",
         "173.1",
         "85",
         "29.43",
         "203.9",
         "107",
         "17.33",
         "122.2",
         "78",
         "5.5",
         "14.6",
         "15",
         "3.94",
         "0",
         "1.0",
         "1.0",
         "1.0"
        ],
        [
         "42",
         "34",
         "0",
         "124.8",
         "82",
         "21.22",
         "282.2",
         "98",
         "23.99",
         "311.5",
         "78",
         "14.02",
         "10.0",
         "4",
         "2.7",
         "2",
         "0.0",
         "0.0",
         "0.0"
        ],
        [
         "43",
         "160",
         "0",
         "85.8",
         "77",
         "14.59",
         "165.3",
         "110",
         "14.05",
         "178.5",
         "92",
         "8.03",
         "9.2",
         "4",
         "2.48",
         "3",
         "0.0",
         "0.0",
         "0.0"
        ],
        [
         "44",
         "64",
         "0",
         "154.0",
         "67",
         "26.18",
         "225.8",
         "118",
         "19.19",
         "265.3",
         "86",
         "11.94",
         "3.5",
         "3",
         "0.95",
         "1",
         "0.0",
         "0.0",
         "0.0"
        ],
        [
         "45",
         "59",
         "28",
         "120.9",
         "97",
         "20.55",
         "213.0",
         "92",
         "18.11",
         "163.1",
         "116",
         "7.34",
         "8.5",
         "5",
         "2.3",
         "2",
         "0.0",
         "1.0",
         "0.0"
        ],
        [
         "46",
         "65",
         "0",
         "211.3",
         "120",
         "35.92",
         "162.6",
         "122",
         "13.82",
         "134.7",
         "118",
         "6.06",
         "13.2",
         "5",
         "3.56",
         "3",
         "0.0",
         "0.0",
         "0.0"
        ],
        [
         "47",
         "142",
         "0",
         "187.0",
         "133",
         "31.79",
         "134.6",
         "74",
         "11.44",
         "242.2",
         "127",
         "10.9",
         "7.4",
         "5",
         "2.0",
         "2",
         "0.0",
         "0.0",
         "0.0"
        ],
        [
         "48",
         "119",
         "0",
         "159.1",
         "114",
         "27.05",
         "231.3",
         "117",
         "19.66",
         "143.2",
         "91",
         "6.44",
         "8.8",
         "3",
         "2.38",
         "5",
         "0.0",
         "0.0",
         "1.0"
        ],
        [
         "49",
         "97",
         "24",
         "133.2",
         "135",
         "22.64",
         "217.2",
         "58",
         "18.46",
         "70.6",
         "79",
         "3.18",
         "11.0",
         "3",
         "2.97",
         "1",
         "0.0",
         "1.0",
         "0.0"
        ]
       ],
       "shape": {
        "columns": 18,
        "rows": 3333
       }
      },
      "text/html": [
       "<div>\n",
       "<style scoped>\n",
       "    .dataframe tbody tr th:only-of-type {\n",
       "        vertical-align: middle;\n",
       "    }\n",
       "\n",
       "    .dataframe tbody tr th {\n",
       "        vertical-align: top;\n",
       "    }\n",
       "\n",
       "    .dataframe thead th {\n",
       "        text-align: right;\n",
       "    }\n",
       "</style>\n",
       "<table border=\"1\" class=\"dataframe\">\n",
       "  <thead>\n",
       "    <tr style=\"text-align: right;\">\n",
       "      <th></th>\n",
       "      <th>account length</th>\n",
       "      <th>number vmail messages</th>\n",
       "      <th>total day minutes</th>\n",
       "      <th>total day calls</th>\n",
       "      <th>total day charge</th>\n",
       "      <th>total eve minutes</th>\n",
       "      <th>total eve calls</th>\n",
       "      <th>total eve charge</th>\n",
       "      <th>total night minutes</th>\n",
       "      <th>total night calls</th>\n",
       "      <th>total night charge</th>\n",
       "      <th>total intl minutes</th>\n",
       "      <th>total intl calls</th>\n",
       "      <th>total intl charge</th>\n",
       "      <th>customer service calls</th>\n",
       "      <th>international plan_yes</th>\n",
       "      <th>voice mail plan_yes</th>\n",
       "      <th>churn_1</th>\n",
       "    </tr>\n",
       "  </thead>\n",
       "  <tbody>\n",
       "    <tr>\n",
       "      <th>0</th>\n",
       "      <td>128</td>\n",
       "      <td>25</td>\n",
       "      <td>265.1</td>\n",
       "      <td>110</td>\n",
       "      <td>45.07</td>\n",
       "      <td>197.4</td>\n",
       "      <td>99</td>\n",
       "      <td>16.78</td>\n",
       "      <td>244.7</td>\n",
       "      <td>91</td>\n",
       "      <td>11.01</td>\n",
       "      <td>10.0</td>\n",
       "      <td>3</td>\n",
       "      <td>2.70</td>\n",
       "      <td>1</td>\n",
       "      <td>0.0</td>\n",
       "      <td>1.0</td>\n",
       "      <td>0.0</td>\n",
       "    </tr>\n",
       "    <tr>\n",
       "      <th>1</th>\n",
       "      <td>107</td>\n",
       "      <td>26</td>\n",
       "      <td>161.6</td>\n",
       "      <td>123</td>\n",
       "      <td>27.47</td>\n",
       "      <td>195.5</td>\n",
       "      <td>103</td>\n",
       "      <td>16.62</td>\n",
       "      <td>254.4</td>\n",
       "      <td>103</td>\n",
       "      <td>11.45</td>\n",
       "      <td>13.7</td>\n",
       "      <td>3</td>\n",
       "      <td>3.70</td>\n",
       "      <td>1</td>\n",
       "      <td>0.0</td>\n",
       "      <td>1.0</td>\n",
       "      <td>0.0</td>\n",
       "    </tr>\n",
       "    <tr>\n",
       "      <th>2</th>\n",
       "      <td>137</td>\n",
       "      <td>0</td>\n",
       "      <td>243.4</td>\n",
       "      <td>114</td>\n",
       "      <td>41.38</td>\n",
       "      <td>121.2</td>\n",
       "      <td>110</td>\n",
       "      <td>10.30</td>\n",
       "      <td>162.6</td>\n",
       "      <td>104</td>\n",
       "      <td>7.32</td>\n",
       "      <td>12.2</td>\n",
       "      <td>5</td>\n",
       "      <td>3.29</td>\n",
       "      <td>0</td>\n",
       "      <td>0.0</td>\n",
       "      <td>0.0</td>\n",
       "      <td>0.0</td>\n",
       "    </tr>\n",
       "    <tr>\n",
       "      <th>3</th>\n",
       "      <td>84</td>\n",
       "      <td>0</td>\n",
       "      <td>299.4</td>\n",
       "      <td>71</td>\n",
       "      <td>50.90</td>\n",
       "      <td>61.9</td>\n",
       "      <td>88</td>\n",
       "      <td>5.26</td>\n",
       "      <td>196.9</td>\n",
       "      <td>89</td>\n",
       "      <td>8.86</td>\n",
       "      <td>6.6</td>\n",
       "      <td>7</td>\n",
       "      <td>1.78</td>\n",
       "      <td>2</td>\n",
       "      <td>1.0</td>\n",
       "      <td>0.0</td>\n",
       "      <td>0.0</td>\n",
       "    </tr>\n",
       "    <tr>\n",
       "      <th>4</th>\n",
       "      <td>75</td>\n",
       "      <td>0</td>\n",
       "      <td>166.7</td>\n",
       "      <td>113</td>\n",
       "      <td>28.34</td>\n",
       "      <td>148.3</td>\n",
       "      <td>122</td>\n",
       "      <td>12.61</td>\n",
       "      <td>186.9</td>\n",
       "      <td>121</td>\n",
       "      <td>8.41</td>\n",
       "      <td>10.1</td>\n",
       "      <td>3</td>\n",
       "      <td>2.73</td>\n",
       "      <td>3</td>\n",
       "      <td>1.0</td>\n",
       "      <td>0.0</td>\n",
       "      <td>0.0</td>\n",
       "    </tr>\n",
       "    <tr>\n",
       "      <th>...</th>\n",
       "      <td>...</td>\n",
       "      <td>...</td>\n",
       "      <td>...</td>\n",
       "      <td>...</td>\n",
       "      <td>...</td>\n",
       "      <td>...</td>\n",
       "      <td>...</td>\n",
       "      <td>...</td>\n",
       "      <td>...</td>\n",
       "      <td>...</td>\n",
       "      <td>...</td>\n",
       "      <td>...</td>\n",
       "      <td>...</td>\n",
       "      <td>...</td>\n",
       "      <td>...</td>\n",
       "      <td>...</td>\n",
       "      <td>...</td>\n",
       "      <td>...</td>\n",
       "    </tr>\n",
       "    <tr>\n",
       "      <th>3328</th>\n",
       "      <td>192</td>\n",
       "      <td>36</td>\n",
       "      <td>156.2</td>\n",
       "      <td>77</td>\n",
       "      <td>26.55</td>\n",
       "      <td>215.5</td>\n",
       "      <td>126</td>\n",
       "      <td>18.32</td>\n",
       "      <td>279.1</td>\n",
       "      <td>83</td>\n",
       "      <td>12.56</td>\n",
       "      <td>9.9</td>\n",
       "      <td>6</td>\n",
       "      <td>2.67</td>\n",
       "      <td>2</td>\n",
       "      <td>0.0</td>\n",
       "      <td>1.0</td>\n",
       "      <td>0.0</td>\n",
       "    </tr>\n",
       "    <tr>\n",
       "      <th>3329</th>\n",
       "      <td>68</td>\n",
       "      <td>0</td>\n",
       "      <td>231.1</td>\n",
       "      <td>57</td>\n",
       "      <td>39.29</td>\n",
       "      <td>153.4</td>\n",
       "      <td>55</td>\n",
       "      <td>13.04</td>\n",
       "      <td>191.3</td>\n",
       "      <td>123</td>\n",
       "      <td>8.61</td>\n",
       "      <td>9.6</td>\n",
       "      <td>4</td>\n",
       "      <td>2.59</td>\n",
       "      <td>3</td>\n",
       "      <td>0.0</td>\n",
       "      <td>0.0</td>\n",
       "      <td>0.0</td>\n",
       "    </tr>\n",
       "    <tr>\n",
       "      <th>3330</th>\n",
       "      <td>28</td>\n",
       "      <td>0</td>\n",
       "      <td>180.8</td>\n",
       "      <td>109</td>\n",
       "      <td>30.74</td>\n",
       "      <td>288.8</td>\n",
       "      <td>58</td>\n",
       "      <td>24.55</td>\n",
       "      <td>191.9</td>\n",
       "      <td>91</td>\n",
       "      <td>8.64</td>\n",
       "      <td>14.1</td>\n",
       "      <td>6</td>\n",
       "      <td>3.81</td>\n",
       "      <td>2</td>\n",
       "      <td>0.0</td>\n",
       "      <td>0.0</td>\n",
       "      <td>0.0</td>\n",
       "    </tr>\n",
       "    <tr>\n",
       "      <th>3331</th>\n",
       "      <td>184</td>\n",
       "      <td>0</td>\n",
       "      <td>213.8</td>\n",
       "      <td>105</td>\n",
       "      <td>36.35</td>\n",
       "      <td>159.6</td>\n",
       "      <td>84</td>\n",
       "      <td>13.57</td>\n",
       "      <td>139.2</td>\n",
       "      <td>137</td>\n",
       "      <td>6.26</td>\n",
       "      <td>5.0</td>\n",
       "      <td>10</td>\n",
       "      <td>1.35</td>\n",
       "      <td>2</td>\n",
       "      <td>1.0</td>\n",
       "      <td>0.0</td>\n",
       "      <td>0.0</td>\n",
       "    </tr>\n",
       "    <tr>\n",
       "      <th>3332</th>\n",
       "      <td>74</td>\n",
       "      <td>25</td>\n",
       "      <td>234.4</td>\n",
       "      <td>113</td>\n",
       "      <td>39.85</td>\n",
       "      <td>265.9</td>\n",
       "      <td>82</td>\n",
       "      <td>22.60</td>\n",
       "      <td>241.4</td>\n",
       "      <td>77</td>\n",
       "      <td>10.86</td>\n",
       "      <td>13.7</td>\n",
       "      <td>4</td>\n",
       "      <td>3.70</td>\n",
       "      <td>0</td>\n",
       "      <td>0.0</td>\n",
       "      <td>1.0</td>\n",
       "      <td>0.0</td>\n",
       "    </tr>\n",
       "  </tbody>\n",
       "</table>\n",
       "<p>3333 rows × 18 columns</p>\n",
       "</div>"
      ],
      "text/plain": [
       "      account length  number vmail messages  total day minutes  \\\n",
       "0                128                     25              265.1   \n",
       "1                107                     26              161.6   \n",
       "2                137                      0              243.4   \n",
       "3                 84                      0              299.4   \n",
       "4                 75                      0              166.7   \n",
       "...              ...                    ...                ...   \n",
       "3328             192                     36              156.2   \n",
       "3329              68                      0              231.1   \n",
       "3330              28                      0              180.8   \n",
       "3331             184                      0              213.8   \n",
       "3332              74                     25              234.4   \n",
       "\n",
       "      total day calls  total day charge  total eve minutes  total eve calls  \\\n",
       "0                 110             45.07              197.4               99   \n",
       "1                 123             27.47              195.5              103   \n",
       "2                 114             41.38              121.2              110   \n",
       "3                  71             50.90               61.9               88   \n",
       "4                 113             28.34              148.3              122   \n",
       "...               ...               ...                ...              ...   \n",
       "3328               77             26.55              215.5              126   \n",
       "3329               57             39.29              153.4               55   \n",
       "3330              109             30.74              288.8               58   \n",
       "3331              105             36.35              159.6               84   \n",
       "3332              113             39.85              265.9               82   \n",
       "\n",
       "      total eve charge  total night minutes  total night calls  \\\n",
       "0                16.78                244.7                 91   \n",
       "1                16.62                254.4                103   \n",
       "2                10.30                162.6                104   \n",
       "3                 5.26                196.9                 89   \n",
       "4                12.61                186.9                121   \n",
       "...                ...                  ...                ...   \n",
       "3328             18.32                279.1                 83   \n",
       "3329             13.04                191.3                123   \n",
       "3330             24.55                191.9                 91   \n",
       "3331             13.57                139.2                137   \n",
       "3332             22.60                241.4                 77   \n",
       "\n",
       "      total night charge  total intl minutes  total intl calls  \\\n",
       "0                  11.01                10.0                 3   \n",
       "1                  11.45                13.7                 3   \n",
       "2                   7.32                12.2                 5   \n",
       "3                   8.86                 6.6                 7   \n",
       "4                   8.41                10.1                 3   \n",
       "...                  ...                 ...               ...   \n",
       "3328               12.56                 9.9                 6   \n",
       "3329                8.61                 9.6                 4   \n",
       "3330                8.64                14.1                 6   \n",
       "3331                6.26                 5.0                10   \n",
       "3332               10.86                13.7                 4   \n",
       "\n",
       "      total intl charge  customer service calls  international plan_yes  \\\n",
       "0                  2.70                       1                     0.0   \n",
       "1                  3.70                       1                     0.0   \n",
       "2                  3.29                       0                     0.0   \n",
       "3                  1.78                       2                     1.0   \n",
       "4                  2.73                       3                     1.0   \n",
       "...                 ...                     ...                     ...   \n",
       "3328               2.67                       2                     0.0   \n",
       "3329               2.59                       3                     0.0   \n",
       "3330               3.81                       2                     0.0   \n",
       "3331               1.35                       2                     1.0   \n",
       "3332               3.70                       0                     0.0   \n",
       "\n",
       "      voice mail plan_yes  churn_1  \n",
       "0                     1.0      0.0  \n",
       "1                     1.0      0.0  \n",
       "2                     0.0      0.0  \n",
       "3                     0.0      0.0  \n",
       "4                     0.0      0.0  \n",
       "...                   ...      ...  \n",
       "3328                  1.0      0.0  \n",
       "3329                  0.0      0.0  \n",
       "3330                  0.0      0.0  \n",
       "3331                  0.0      0.0  \n",
       "3332                  1.0      0.0  \n",
       "\n",
       "[3333 rows x 18 columns]"
      ]
     },
     "execution_count": 12,
     "metadata": {},
     "output_type": "execute_result"
    }
   ],
   "source": [
    "df_encoded"
   ]
  },
  {
   "cell_type": "markdown",
   "id": "a2f736b9",
   "metadata": {},
   "source": [
    "## Exploratory Data Analysis(EDA)\n",
    "In this section , I explore the dataset to better understand the distribution, relationships and patterns among the variables that may influence customer churn. I begin by examining the distribution of numerical and categorical features, identifying correlations with the target variable (`churn`), and checking for any class imbalances or anomalies. This analysis provided crucial insights that wiill guide the choice of features and preprocessing steps for modeling.\n",
    "\n",
    "1. Class Distribution"
   ]
  },
  {
   "cell_type": "code",
   "execution_count": 13,
   "id": "2fb1f00e",
   "metadata": {},
   "outputs": [
    {
     "data": {
      "image/png": "[encoded data removed]",
      "text/plain": [
       "<Figure size 432x288 with 1 Axes>"
      ]
     },
     "metadata": {
      "needs_background": "light"
     },
     "output_type": "display_data"
    }
   ],
   "source": [
    "# checking for class imbalance\n",
    "df_encoded['churn_1'].value_counts(normalize=True)\n",
    "\n",
    "import seaborn as sns\n",
    "sns.countplot(x='churn', data=df)\n",
    "plt.title('Class Distribution: No Churn vs Churn')\n",
    "plt.show()"
   ]
  },
  {
   "cell_type": "markdown",
   "id": "2484c194",
   "metadata": {},
   "source": [
    "Insights from the chart:\n",
    "- The bar for `0`(No churn) is significantly taller than that for `1`(Churn), indicating that most customers stayed with the service.\n",
    "- There is class imbalance which will be handled before modelling\n",
    "\n",
    "2. Categorical Feature Analysis"
   ]
  },
  {
   "cell_type": "code",
   "execution_count": 14,
   "id": "a4c1b064",
   "metadata": {},
   "outputs": [
    {
     "data": {
      "image/png": "[encoded data removed]",
      "text/plain": [
       "<Figure size 720x288 with 2 Axes>"
      ]
     },
     "metadata": {
      "needs_background": "light"
     },
     "output_type": "display_data"
    }
   ],
   "source": [
    "# List the one-hot encoded categorical columns\n",
    "encoded_cat_features = ['international plan_yes', 'voice mail plan_yes']\n",
    "\n",
    "# Create subplots\n",
    "fig, axes = plt.subplots(1, len(encoded_cat_features), figsize=(10, 4))\n",
    "\n",
    "# If there's only one subplot, convert axes to a list\n",
    "if len(encoded_cat_features) == 1:\n",
    "    axes = [axes]\n",
    "\n",
    "# Loop through each feature and plot\n",
    "for i, col in enumerate(encoded_cat_features):\n",
    "    sns.countplot(data=df_encoded, x=col, palette='Set2', ax=axes[i])\n",
    "    axes[i].set_title(f'Distribution of {col}')\n",
    "    axes[i].set_xlabel(col)\n",
    "    axes[i].set_ylabel('Count')\n",
    "    axes[i].set_xticks([0, 1])\n",
    "    axes[i].set_xticklabels(['No', 'Yes'])\n",
    "\n",
    "plt.tight_layout()\n",
    "plt.show()\n"
   ]
  },
  {
   "cell_type": "markdown",
   "id": "cc56f4e9",
   "metadata": {},
   "source": [
    "Insights from the chart above:\n",
    "\n",
    "**International plan**\n",
    "- A majority of customers do not have an international plan\n",
    "\n",
    "**Voice mail plan**\n",
    "- Most customers still do not have the plan, but the gap is smaller compared to the international plan\n",
    "- Both plans are less popular than not having them, but the voice mail plan has a higher adoption rate.\n",
    "\n",
    "3.Numerical features"
   ]
  },
  {
   "cell_type": "code",
   "execution_count": 15,
   "id": "cbcf6226",
   "metadata": {},
   "outputs": [
    {
     "data": {
      "image/png": "[encoded data removed]",
      "text/plain": [
       "<Figure size 1080x864 with 15 Axes>"
      ]
     },
     "metadata": {
      "needs_background": "light"
     },
     "output_type": "display_data"
    }
   ],
   "source": [
    "# Drop the categorical features using correct column names\n",
    "numerical = df_encoded.drop(columns=['international plan_yes', 'voice mail plan_yes', 'churn_1'], axis=1)\n",
    "\n",
    "# Create subplots\n",
    "fig, axes = plt.subplots(5, 3, figsize=(15, 12))\n",
    "axes = axes.flatten()\n",
    "\n",
    "# Plot histograms for each numerical column\n",
    "for i, col in enumerate(numerical.columns):\n",
    "    sns.histplot(data=df_encoded, x=col, kde=True, ax=axes[i])\n",
    "    axes[i].set_title(f'Distribution of {col}')\n",
    "    axes[i].set_xlabel(col)\n",
    "    axes[i].set_ylabel('Frequency')\n",
    "\n",
    "# Hide any unused subplots\n",
    "for j in range(i + 1, len(axes)):\n",
    "    axes[j].set_visible(False)\n",
    "\n",
    "plt.tight_layout()\n",
    "plt.show()"
   ]
  },
  {
   "cell_type": "markdown",
   "id": "9e853f13",
   "metadata": {},
   "source": [
    "Insights from the above:\n",
    "- `Account length`, `total day minutes/calls/charge`, `total eve minutes/calls/charge`, `total night minutes/calls/charge` and `total intl minutes/charge` have a **roughly normal distribution**, indicating balanced usage.\n",
    "- `Number Vmail messages`, `customer service calls` and `total intl calls` are **right skewed** showing most users have few or zero voicemail messages, few calls and few international calls respectively.\n",
    "- Total charges (day, evening, night, international) mirror the distributions of their respective minute features, which is expected since charges are typically proportional to usage.\n",
    "- The spike in customer service calls around 1–3 might indicate a common pain point or need for support in those instances.\n",
    "\n",
    "4. Correlation Distribution"
   ]
  },
  {
   "cell_type": "code",
   "execution_count": 16,
   "id": "af356243",
   "metadata": {},
   "outputs": [
    {
     "data": {
      "image/png": "[encoded data removed]",
      "text/plain": [
       "<Figure size 720x360 with 2 Axes>"
      ]
     },
     "metadata": {
      "needs_background": "light"
     },
     "output_type": "display_data"
    }
   ],
   "source": [
    "correlation_matrix = df_encoded.corr()['churn_1'].sort_values(ascending=False).to_frame()\n",
    "\n",
    "plt.figure(figsize=(10,5))\n",
    "sns.heatmap(correlation_matrix, annot=True, cmap='coolwarm', fmt='2f', linewidth=0.5)\n",
    "plt.title('Correlation Heatmap')\n",
    "plt.show()"
   ]
  },
  {
   "cell_type": "markdown",
   "id": "4d0aa847",
   "metadata": {},
   "source": [
    "Insights from above:\n",
    "- `International plan`, `customer service calls`, `total day minutes`, `total day charge` are **positively correlated** with churn, indicating they are more likely associated with customers who churn.\n",
    "\n",
    "- `Voice mail plan`, `number of vmail messages`, `total intl calls` are **negatively correlated** with churn and are more common among customers who did not churn.\n",
    "\n",
    "- Variables like `account length`, `total night calls`, or `total evening calls` show very weak or no correlation with churn, suggesting they don’t significantly impact churn prediction directly."
   ]
  },
  {
   "cell_type": "markdown",
   "id": "06318c18",
   "metadata": {},
   "source": [
    "## Modelling & Evaluation\n",
    "- To predict customer churn effectively, I begin by addressing class imbalance using the SMOTE technique, which synthetically balances the dataset. \n",
    "\n",
    "- Afterward, I standardize the features to ensure all variables contribute equally to model training. \n",
    "\n",
    "- Model Used are:\n",
    "    - **logistic regression** as a baseline model due to its simplicity, interpretability, and efficiency in handling binary classification tasks. Logistic regression also provides insights into feature importance and the likelihood of churn.\n",
    "    - **Tuned decision tree classifier** To capture more complex, non-linear relationships in the data.\n",
    "    - By optimizing its hyperparameters, we ensure better generalization and reduce the risk of overfitting. \n",
    "    - Using both models allows us to balance interpretability and predictive performance, providing a comprehensive approach to understanding and anticipating customer churn.\n",
    "\n",
    "\n",
    "1. Train Test Split"
   ]
  },
  {
   "cell_type": "code",
   "execution_count": 33,
   "id": "157d102f",
   "metadata": {},
   "outputs": [],
   "source": [
    "# creating features and target\n",
    "X = df_encoded.drop(columns=['churn_1'], axis=1)\n",
    "y = df_encoded['churn_1']"
   ]
  },
  {
   "cell_type": "code",
   "execution_count": 34,
   "id": "21f29b51",
   "metadata": {},
   "outputs": [],
   "source": [
    "# Train-test split\n",
    "X_train, X_test, y_train, y_test = train_test_split(X, y, test_size=0.2, random_state=42)"
   ]
  },
  {
   "cell_type": "markdown",
   "id": "1fae3e3f",
   "metadata": {},
   "source": [
    "2. Solving class imbalance using SMOTE\n",
    "\n",
    "I first addressed class imbalance using SMOTE(Synthetic Minority Over-sampling Technique) which generates synthetic examples of the minority class to balance the dataset."
   ]
  },
  {
   "cell_type": "code",
   "execution_count": 35,
   "id": "beeb0525",
   "metadata": {},
   "outputs": [
    {
     "name": "stdout",
     "output_type": "stream",
     "text": [
      "After smote\n",
      "1.0    0.5\n",
      "0.0    0.5\n",
      "Name: churn_1, dtype: float64\n"
     ]
    }
   ],
   "source": [
    "smote = SMOTE(sampling_strategy=1.0, random_state=42)\n",
    "X_train_resampled, y_train_resampled = smote.fit_resample(X_train, y_train)\n",
    "\n",
    "# check class distribution after smote\n",
    "print('After smote')\n",
    "print(y_train_resampled.value_counts(normalize=True))"
   ]
  },
  {
   "cell_type": "markdown",
   "id": "6d75dea7",
   "metadata": {},
   "source": [
    "3. Standardizing\n",
    "\n",
    "I standardized all my numerical features using standardscaler to ensure all variables contribute equally to the model and improve convergence during optimization."
   ]
  },
  {
   "cell_type": "code",
   "execution_count": 36,
   "id": "198e5e26",
   "metadata": {},
   "outputs": [],
   "source": [
    "scaler = StandardScaler()\n",
    "X_train_scaled = scaler.fit_transform(X_train_resampled)\n",
    "X_test_scaled = scaler.transform(X_test)"
   ]
  },
  {
   "cell_type": "markdown",
   "id": "65477561",
   "metadata": {},
   "source": [
    "#### Model 1 : Logistic Regression\n",
    "It is used as a baseline due to its interpretability and suitability for binary classification tasks."
   ]
  },
  {
   "cell_type": "code",
   "execution_count": 37,
   "id": "e85783f5",
   "metadata": {},
   "outputs": [],
   "source": [
    "# Initialize and train the logistic regression model\n",
    "log_reg = LogisticRegression(random_state=42)\n",
    "log_reg.fit(X_train_scaled, y_train_resampled)\n",
    "\n",
    "# Predict on test set\n",
    "y_pred_lr = log_reg.predict(X_test_scaled)"
   ]
  },
  {
   "cell_type": "markdown",
   "id": "db5a1693",
   "metadata": {},
   "source": [
    "#### Logistic model evaluation"
   ]
  },
  {
   "cell_type": "code",
   "execution_count": 38,
   "id": "3785c42e",
   "metadata": {},
   "outputs": [
    {
     "name": "stdout",
     "output_type": "stream",
     "text": [
      "\n",
      "Classification Report:\n",
      "               precision    recall  f1-score   support\n",
      "\n",
      "         0.0       0.94      0.76      0.84       566\n",
      "         1.0       0.35      0.71      0.47       101\n",
      "\n",
      "    accuracy                           0.76       667\n",
      "   macro avg       0.64      0.74      0.66       667\n",
      "weighted avg       0.85      0.76      0.78       667\n",
      "\n",
      "Accuracy Score: 0.7556221889055472\n"
     ]
    }
   ],
   "source": [
    "# Evaluate performance\n",
    "print(\"\\nClassification Report:\\n\", classification_report(y_test, y_pred_lr))\n",
    "print(\"Accuracy Score:\", accuracy_score(y_test, y_pred_lr))"
   ]
  },
  {
   "cell_type": "markdown",
   "id": "31eff06c",
   "metadata": {},
   "source": [
    "Interpretation from above:\n",
    "- *Precision*: the model predicts that 94% of customers are non-churners and 35% of customers churn.\n",
    "- *Recall*: The model was able to correctly predict 76% of customers did not churn and 71% are actually churned.\n",
    "- *F1-score*: There is a good balance between precision and recall for the no-churn class. Meanwhile, there is a poor overall performance on the churn class due to low precision.\n",
    "- *Accuracy*: The model correctly predicts the outcome for 76% of customers. However, due to class imbalance, this metric is misleading on its own."
   ]
  },
  {
   "cell_type": "markdown",
   "id": "6f861ee9",
   "metadata": {},
   "source": [
    "##### ROC curve and AUC\n",
    "This is a graphical representation of the diagnostic ability of the logistic regression model for predicting customer churn as the classification threshold is varied."
   ]
  },
  {
   "cell_type": "code",
   "execution_count": 39,
   "id": "ab96fccd",
   "metadata": {},
   "outputs": [],
   "source": [
    "# Predict probabilities\n",
    "y_proba_lr = log_reg.predict_proba(X_test_scaled)[:, 1]\n",
    "\n",
    "# Compute ROC curve and AUC\n",
    "fpr, tpr, thresholds = roc_curve(y_test, y_proba_lr)\n",
    "auc_score = roc_auc_score(y_test, y_proba_lr)\n"
   ]
  },
  {
   "cell_type": "code",
   "execution_count": 40,
   "id": "03d964bb",
   "metadata": {},
   "outputs": [
    {
     "data": {
      "image/png": "[encoded data removed]",
      "text/plain": [
       "<Figure size 576x432 with 1 Axes>"
      ]
     },
     "metadata": {
      "needs_background": "light"
     },
     "output_type": "display_data"
    }
   ],
   "source": [
    "# Plot the ROC Curve\n",
    "plt.figure(figsize=(8, 6))\n",
    "plt.plot(fpr, tpr, color='darkorange', label=f'Logistic Regression (AUC = {auc_score:.2f})')\n",
    "plt.plot([0, 1], [0, 1], color='navy', linestyle='--')\n",
    "plt.xlabel('False Positive Rate')\n",
    "plt.ylabel('True Positive Rate')\n",
    "plt.title('Receiver Operating Characteristic (ROC) Curve')\n",
    "plt.legend(loc='lower right')\n",
    "plt.grid(True)\n",
    "plt.tight_layout()\n",
    "plt.show()"
   ]
  },
  {
   "cell_type": "markdown",
   "id": "2f2cf677",
   "metadata": {},
   "source": [
    "Interpretation of the Above:\n",
    "- AUC(0.82): This means there is an 82% chance the model will rank a randomly chosen churner higher than a randomly chosen non-churner in terms of prdicted probability.\n",
    "- The curve rises steeply towardds the top-left corner, which signifies high sensitivity(recall) at relatively low positive rates.\n",
    "- This model performs reasonably well in distinguishing between the two classes.\n"
   ]
  },
  {
   "cell_type": "markdown",
   "id": "27fa0fe5",
   "metadata": {},
   "source": [
    "#### Model 2: Tuned Decision Tree Classifier\n",
    "- I used it for its simplicity and interpretability and used `GridSearchCV` for hyperparameter tuning prevent overfitting and improve accuracy"
   ]
  },
  {
   "cell_type": "code",
   "execution_count": 41,
   "id": "8d7b07b1",
   "metadata": {},
   "outputs": [],
   "source": [
    "from sklearn.model_selection import GridSearchCV\n",
    "\n",
    "# define the parameter grid\n",
    "param_grid = {\n",
    "    'max_depth':[3, 5, 10, None],\n",
    "    'min_samples_split': [2, 5, 10],\n",
    "    'min_samples_leaf':[1, 2, 4],\n",
    "    'criterion': ['gini', 'entropy']\n",
    "}"
   ]
  },
  {
   "cell_type": "code",
   "execution_count": 42,
   "id": "b2ff11d6",
   "metadata": {},
   "outputs": [],
   "source": [
    "# initialize the base model\n",
    "dtc = DecisionTreeClassifier(random_state=42)"
   ]
  },
  {
   "cell_type": "code",
   "execution_count": 43,
   "id": "b96178e3",
   "metadata": {},
   "outputs": [
    {
     "data": {
      "text/plain": [
       "GridSearchCV(cv=5, estimator=DecisionTreeClassifier(random_state=42),\n",
       "             param_grid={'criterion': ['gini', 'entropy'],\n",
       "                         'max_depth': [3, 5, 10, None],\n",
       "                         'min_samples_leaf': [1, 2, 4],\n",
       "                         'min_samples_split': [2, 5, 10]},\n",
       "             scoring='accuracy')"
      ]
     },
     "execution_count": 43,
     "metadata": {},
     "output_type": "execute_result"
    }
   ],
   "source": [
    "# set up gridsearch cv\n",
    "grid_search = GridSearchCV(estimator=dtc, param_grid=param_grid, cv = 5, scoring='accuracy')\n",
    "\n",
    "# fit on the resampled and scaled training data\n",
    "grid_search.fit(X_train_scaled, y_train_resampled)"
   ]
  },
  {
   "cell_type": "code",
   "execution_count": 44,
   "id": "f26ed53c",
   "metadata": {},
   "outputs": [],
   "source": [
    "# get best method\n",
    "best_dtc = grid_search.best_estimator_\n",
    "\n",
    "# predict on the test data\n",
    "y_pred_dtc = best_dtc.predict(X_test_scaled)"
   ]
  },
  {
   "cell_type": "markdown",
   "id": "2ca2f065",
   "metadata": {},
   "source": [
    "#### Model Evaluation"
   ]
  },
  {
   "cell_type": "code",
   "execution_count": 45,
   "id": "b78cc58f",
   "metadata": {},
   "outputs": [
    {
     "name": "stdout",
     "output_type": "stream",
     "text": [
      "Best Hyperparameters: {'criterion': 'entropy', 'max_depth': None, 'min_samples_leaf': 1, 'min_samples_split': 5}\n",
      "\n",
      "Accuracy: 0.9025487256371814\n",
      "\n",
      "Classification Report:\n",
      "               precision    recall  f1-score   support\n",
      "\n",
      "         0.0       0.96      0.93      0.94       566\n",
      "         1.0       0.65      0.76      0.70       101\n",
      "\n",
      "    accuracy                           0.90       667\n",
      "   macro avg       0.80      0.84      0.82       667\n",
      "weighted avg       0.91      0.90      0.91       667\n",
      "\n"
     ]
    }
   ],
   "source": [
    "# Evaluate performance\n",
    "print(\"Best Hyperparameters:\", grid_search.best_params_)\n",
    "print(\"\\nAccuracy:\", accuracy_score(y_test, y_pred_dtc))\n",
    "print(\"\\nClassification Report:\\n\", classification_report(y_test, y_pred_dtc))"
   ]
  },
  {
   "cell_type": "markdown",
   "id": "2dae5e1d",
   "metadata": {},
   "source": [
    "Interpretation from the above:\n",
    "- *Precision*: The model predicts 96% of customers are non-churners and 65% of customers churn.\n",
    "- *Recall*: The model correctly identifies that 93% of actual non-churners and captures 76% of actual churners. This is a significant improvement over the logistic regression model which was 71%.\n",
    "- *F1-score*: This shows excellent performance for the non-churn class and also solid, balanced performance on the minority class.\n",
    "- *Accuracy*: There is a strong improvement over the logistic regression model from 76% to 90%.\n",
    "\n",
    "ROC-AUC  curve"
   ]
  },
  {
   "cell_type": "code",
   "execution_count": 46,
   "id": "a3463f60",
   "metadata": {},
   "outputs": [],
   "source": [
    "# probalities\n",
    "y_proba_dtc = best_dtc.predict_proba(X_test_scaled)[:, 1]\n",
    "\n",
    "# compute ROC Curves and AUC\n",
    "fpr_dtc, tpr_dtc, _ = roc_curve(y_test, y_proba_dtc)\n",
    "auc_score_dtc = roc_auc_score(y_test, y_proba_dtc)\n"
   ]
  },
  {
   "cell_type": "code",
   "execution_count": 47,
   "id": "1a289824",
   "metadata": {},
   "outputs": [
    {
     "data": {
      "image/png": "[encoded data removed]",
      "text/plain": [
       "<Figure size 720x360 with 1 Axes>"
      ]
     },
     "metadata": {
      "needs_background": "light"
     },
     "output_type": "display_data"
    }
   ],
   "source": [
    "#roc curve\n",
    "plt.figure(figsize=(10,5))\n",
    "plt.plot(fpr_dtc, tpr_dtc, label=f'AUC = {auc_score_dtc:.2f}')\n",
    "plt.plot([0,1], [0,1], 'k--')  \n",
    "plt.xlabel('False Positive Rate')\n",
    "plt.ylabel('True Positive Rate')\n",
    "plt.title('ROC Curve - Tuned Decision Tree')\n",
    "plt.legend()\n",
    "plt.grid(True)\n",
    "plt.show()"
   ]
  },
  {
   "cell_type": "markdown",
   "id": "e3171cb6",
   "metadata": {},
   "source": [
    "- AUC(0.85): This means that the model is able to distinguish between churners and non-churners 85% of the time which is a very good result.\n",
    "- The ROC curve rises sharply toward the top left corner, indicating a high true positive rate (TPR) at low false positive rates(FPR).\n",
    "\n",
    "#### Model 3: Gradient Boosting Classifier \n",
    "- It is used for its ability to build a strong predictive model by combining multiple weak learners, making it particularly powerful in capturing complex patterns in the data."
   ]
  },
  {
   "cell_type": "code",
   "execution_count": 49,
   "id": "6ae5858b",
   "metadata": {},
   "outputs": [],
   "source": [
    "from sklearn.ensemble import GradientBoostingClassifier\n",
    "\n",
    "# Initialize the model\n",
    "gb_model = GradientBoostingClassifier(random_state=42)\n",
    "\n",
    "# Fit the model on the training data\n",
    "gb_model.fit(X_train_scaled, y_train_resampled)\n",
    "\n",
    "# Predict on the test data\n",
    "y_pred_gb = gb_model.predict(X_test_scaled)\n",
    "y_proba_gb = gb_model.predict_proba(X_test_scaled)[:, 1]\n"
   ]
  },
  {
   "cell_type": "markdown",
   "id": "04816117",
   "metadata": {},
   "source": [
    "#### Model Evaluation"
   ]
  },
  {
   "cell_type": "code",
   "execution_count": 50,
   "id": "d20157c7",
   "metadata": {},
   "outputs": [
    {
     "name": "stdout",
     "output_type": "stream",
     "text": [
      "Classification Report:\n",
      "               precision    recall  f1-score   support\n",
      "\n",
      "         0.0       0.97      0.95      0.96       566\n",
      "         1.0       0.75      0.82      0.78       101\n",
      "\n",
      "    accuracy                           0.93       667\n",
      "   macro avg       0.86      0.89      0.87       667\n",
      "weighted avg       0.93      0.93      0.93       667\n",
      "\n",
      "AUC Score: 0.9170835811496344\n"
     ]
    }
   ],
   "source": [
    "# Evaluation metrics\n",
    "print(\"Classification Report:\\n\", classification_report(y_test, y_pred_gb))\n",
    "print(\"AUC Score:\", roc_auc_score(y_test, y_proba_gb))\n"
   ]
  },
  {
   "cell_type": "markdown",
   "id": "b30f6dcb",
   "metadata": {},
   "source": [
    "Interpretation from the above:\n",
    "- *Precision*: The model predicts 97% of customers are non-churners and 75% of customers churn.\n",
    "- *Recall*: The model correctly identifies that 95% of actual non-churners and captures 82% of actual churners. This is a significant improvement over the logistic regression model which was 71% and the tuned decision tree model which was 76%.\n",
    "- *F1-score*: This shows excellent performance for the non-churn class of 96% and also solid, balanced performance on the minority class of 78%.\n",
    "- *Accuracy*: There is a strong improvement over the decision model tree from 90% to 92%.\n",
    "\n",
    "ROC-AUC  curve"
   ]
  },
  {
   "cell_type": "code",
   "execution_count": 51,
   "id": "ec6419cd",
   "metadata": {},
   "outputs": [
    {
     "data": {
      "image/png": "[encoded data removed]",
      "text/plain": [
       "<Figure size 576x360 with 1 Axes>"
      ]
     },
     "metadata": {
      "needs_background": "light"
     },
     "output_type": "display_data"
    }
   ],
   "source": [
    "# ROC Curve\n",
    "fpr_gb, tpr_gb, _ = roc_curve(y_test, y_proba_gb)\n",
    "plt.figure(figsize=(8, 5))\n",
    "plt.plot(fpr_gb, tpr_gb, label=f'Gradient Boosting (AUC = {roc_auc_score(y_test, y_proba_gb):.2f})')\n",
    "plt.plot([0, 1], [0, 1], 'k--')\n",
    "plt.xlabel(\"False Positive Rate\")\n",
    "plt.ylabel(\"True Positive Rate\")\n",
    "plt.title(\"ROC Curve - Gradient Boosting Classifier\")\n",
    "plt.legend()\n",
    "plt.grid(True)\n",
    "plt.show()\n"
   ]
  },
  {
   "cell_type": "markdown",
   "id": "22be428a",
   "metadata": {},
   "source": [
    "There is an increase in the AUC score from 85% to 92% showing an increase in the model's performance."
   ]
  },
  {
   "cell_type": "markdown",
   "id": "0ece669f",
   "metadata": {},
   "source": [
    "### Comparison between Logistic Regression , Tuned Decision Tree Model and Gradient Boosting Classifier.\n",
    "\n",
    "1. **Overall Accuracy**\n",
    "- *Logistic Regression*: The accuracy is 0.76 which the lowest of the three models.\n",
    "\n",
    "- *Tuned Decision Tree Classifier*: The accuracy is 0.90 which is an improvement from the logistic regression model.\n",
    "\n",
    "- *Gradient Boosting Classifier*: An accuracy of 0.92, reflecting the model's ability to predict non-churn cases with high recall. The model's high precision for both classes boosts its overall performance.\n",
    "\n",
    "2. **Classification Report**\n",
    "- *Logistic regression*: It performs relatively well in predicting non-churn customers, but still misses 35% of them. While the recall is higher for churn customers(71% of actual churn cases are detected), precision is low meaning many predicted churn customers are false positive. While it's a simple and interpretable model, its overall performance—especially the low F1-score for churners (0.47)—makes it less reliable for business decisions where targeting actual churners accurately is critical. \n",
    "\n",
    "- *Tuned Decision Tree Classifier*: It significantly outperformed the logistic regression model with better precision (65%) and recall(76%) for the churn class, indicating a much more balanced and effective performance.\n",
    "\n",
    "- *Gradient Boosting Classifier*: outperformed the baseline logistic  model and decision tree in key classification metrics. It achieved higher precision, recall, and F1-score, particularly for the churn class, indicating better balance between false positives and false negatives.\n",
    "\n",
    "3. **ROC-AUC score**\n",
    "- *Logistic Regression (0.82)*: The model is able to distinguish between churn and non-churn customers with fair accuracy.Even if it is a good model, there is room for improvement and improving recall for churn.\n",
    "\n",
    "- *Tuned Decision Tree Classifier(0.85)*:There is a slight improvement in the AUC score from the logistic regression but the ROC curve shape indicates high true positive rate (TPR) at low false positive rates(FPR).\n",
    "- *Gradient Boosting Classifier(0.92)*:The model the highest ROC AUC as compared to the other two models, suggesting stronger generalization and better separation between churners and non-churners.\n",
    "\n",
    "4. **ROC Curve**"
   ]
  },
  {
   "cell_type": "code",
   "execution_count": 52,
   "id": "8abfed82",
   "metadata": {},
   "outputs": [
    {
     "data": {
      "image/png": "[encoded data removed]",
      "text/plain": [
       "<Figure size 720x360 with 1 Axes>"
      ]
     },
     "metadata": {
      "needs_background": "light"
     },
     "output_type": "display_data"
    }
   ],
   "source": [
    "plt.figure(figsize=(10,5))\n",
    "plt.plot(fpr, tpr, label = f'Logistic Regression(AUC = {auc_score:.2f})')\n",
    "plt.plot(fpr_dtc, tpr_dtc, label = f'Decision Tree (AUC = {auc_score_dtc:.2f})')\n",
    "plt.plot(fpr_gb, tpr_gb, label=f'Gradient Boosting (AUC = {roc_auc_score(y_test, y_proba_gb):.2f})')\n",
    "plt.plot([0,1], [0, 1], 'k--')\n",
    "plt.xlabel('False Positive Rate')\n",
    "plt.ylabel('True Positive Rate')\n",
    "plt.title('ROC Curve Comparison')\n",
    "plt.legend(loc='lower right')\n",
    "plt.grid(True)\n",
    "plt.show()"
   ]
  },
  {
   "cell_type": "markdown",
   "id": "3e4f02ae",
   "metadata": {},
   "source": [
    "- The closer the ROC curve is to the top-left corner, the better the model's performance. \n",
    "- Gradient Boosting shows a better trade-off between True Positive Rate (Sensitivity/Recall) and False Positive Rate, making it the superior model for churn prediction.\n",
    "- Logistic Regression, while performing decently, has a lower ability to correctly classify churn cases compared to Random Forest."
   ]
  },
  {
   "cell_type": "markdown",
   "id": "89c820c2",
   "metadata": {},
   "source": [
    "## Feature Importance\n",
    "To understand which features most influence the model's predictions, I examined the feature importance scores derived from the **Gradient Boosting Classifier**. This helps the identify the most relevant variables contributing to churn, guiding both model interpretation and potential business actions. By vvisualizing these importances, we gain insights into which customers attributes have the greatest impact on churn prediction. "
   ]
  },
  {
   "cell_type": "code",
   "execution_count": 53,
   "id": "8568ae46",
   "metadata": {},
   "outputs": [
    {
     "data": {
      "application/vnd.microsoft.datawrangler.viewer.v0+json": {
       "columns": [
        {
         "name": "index",
         "rawType": "int64",
         "type": "integer"
        },
        {
         "name": "Feature",
         "rawType": "object",
         "type": "string"
        },
        {
         "name": "importance",
         "rawType": "float64",
         "type": "float"
        }
       ],
       "ref": "7b1941c4-c421-406c-922a-621ed72d8c10",
       "rows": [
        [
         "15",
         "international plan_yes",
         "0.27892824806984023"
        ],
        [
         "14",
         "customer service calls",
         "0.19083538413851114"
        ],
        [
         "2",
         "total day minutes",
         "0.14707980419710723"
        ],
        [
         "4",
         "total day charge",
         "0.11925676938544512"
        ],
        [
         "16",
         "voice mail plan_yes",
         "0.09535218330313029"
        ],
        [
         "5",
         "total eve minutes",
         "0.04171181354770455"
        ],
        [
         "12",
         "total intl calls",
         "0.0378537153670688"
        ],
        [
         "11",
         "total intl minutes",
         "0.017894886985306127"
        ],
        [
         "7",
         "total eve charge",
         "0.01748336035225882"
        ],
        [
         "13",
         "total intl charge",
         "0.013787879618263745"
        ],
        [
         "8",
         "total night minutes",
         "0.012235790794753348"
        ],
        [
         "10",
         "total night charge",
         "0.00797430280368974"
        ],
        [
         "0",
         "account length",
         "0.00594038478094247"
        ],
        [
         "6",
         "total eve calls",
         "0.003772856951053308"
        ],
        [
         "3",
         "total day calls",
         "0.0037091773339691333"
        ],
        [
         "9",
         "total night calls",
         "0.0036762076816860586"
        ],
        [
         "1",
         "number vmail messages",
         "0.0025072346892699117"
        ]
       ],
       "shape": {
        "columns": 2,
        "rows": 17
       }
      },
      "text/html": [
       "<div>\n",
       "<style scoped>\n",
       "    .dataframe tbody tr th:only-of-type {\n",
       "        vertical-align: middle;\n",
       "    }\n",
       "\n",
       "    .dataframe tbody tr th {\n",
       "        vertical-align: top;\n",
       "    }\n",
       "\n",
       "    .dataframe thead th {\n",
       "        text-align: right;\n",
       "    }\n",
       "</style>\n",
       "<table border=\"1\" class=\"dataframe\">\n",
       "  <thead>\n",
       "    <tr style=\"text-align: right;\">\n",
       "      <th></th>\n",
       "      <th>Feature</th>\n",
       "      <th>importance</th>\n",
       "    </tr>\n",
       "  </thead>\n",
       "  <tbody>\n",
       "    <tr>\n",
       "      <th>15</th>\n",
       "      <td>international plan_yes</td>\n",
       "      <td>0.278928</td>\n",
       "    </tr>\n",
       "    <tr>\n",
       "      <th>14</th>\n",
       "      <td>customer service calls</td>\n",
       "      <td>0.190835</td>\n",
       "    </tr>\n",
       "    <tr>\n",
       "      <th>2</th>\n",
       "      <td>total day minutes</td>\n",
       "      <td>0.147080</td>\n",
       "    </tr>\n",
       "    <tr>\n",
       "      <th>4</th>\n",
       "      <td>total day charge</td>\n",
       "      <td>0.119257</td>\n",
       "    </tr>\n",
       "    <tr>\n",
       "      <th>16</th>\n",
       "      <td>voice mail plan_yes</td>\n",
       "      <td>0.095352</td>\n",
       "    </tr>\n",
       "    <tr>\n",
       "      <th>5</th>\n",
       "      <td>total eve minutes</td>\n",
       "      <td>0.041712</td>\n",
       "    </tr>\n",
       "    <tr>\n",
       "      <th>12</th>\n",
       "      <td>total intl calls</td>\n",
       "      <td>0.037854</td>\n",
       "    </tr>\n",
       "    <tr>\n",
       "      <th>11</th>\n",
       "      <td>total intl minutes</td>\n",
       "      <td>0.017895</td>\n",
       "    </tr>\n",
       "    <tr>\n",
       "      <th>7</th>\n",
       "      <td>total eve charge</td>\n",
       "      <td>0.017483</td>\n",
       "    </tr>\n",
       "    <tr>\n",
       "      <th>13</th>\n",
       "      <td>total intl charge</td>\n",
       "      <td>0.013788</td>\n",
       "    </tr>\n",
       "    <tr>\n",
       "      <th>8</th>\n",
       "      <td>total night minutes</td>\n",
       "      <td>0.012236</td>\n",
       "    </tr>\n",
       "    <tr>\n",
       "      <th>10</th>\n",
       "      <td>total night charge</td>\n",
       "      <td>0.007974</td>\n",
       "    </tr>\n",
       "    <tr>\n",
       "      <th>0</th>\n",
       "      <td>account length</td>\n",
       "      <td>0.005940</td>\n",
       "    </tr>\n",
       "    <tr>\n",
       "      <th>6</th>\n",
       "      <td>total eve calls</td>\n",
       "      <td>0.003773</td>\n",
       "    </tr>\n",
       "    <tr>\n",
       "      <th>3</th>\n",
       "      <td>total day calls</td>\n",
       "      <td>0.003709</td>\n",
       "    </tr>\n",
       "    <tr>\n",
       "      <th>9</th>\n",
       "      <td>total night calls</td>\n",
       "      <td>0.003676</td>\n",
       "    </tr>\n",
       "    <tr>\n",
       "      <th>1</th>\n",
       "      <td>number vmail messages</td>\n",
       "      <td>0.002507</td>\n",
       "    </tr>\n",
       "  </tbody>\n",
       "</table>\n",
       "</div>"
      ],
      "text/plain": [
       "                   Feature  importance\n",
       "15  international plan_yes    0.278928\n",
       "14  customer service calls    0.190835\n",
       "2        total day minutes    0.147080\n",
       "4         total day charge    0.119257\n",
       "16     voice mail plan_yes    0.095352\n",
       "5        total eve minutes    0.041712\n",
       "12        total intl calls    0.037854\n",
       "11      total intl minutes    0.017895\n",
       "7         total eve charge    0.017483\n",
       "13       total intl charge    0.013788\n",
       "8      total night minutes    0.012236\n",
       "10      total night charge    0.007974\n",
       "0           account length    0.005940\n",
       "6          total eve calls    0.003773\n",
       "3          total day calls    0.003709\n",
       "9        total night calls    0.003676\n",
       "1    number vmail messages    0.002507"
      ]
     },
     "execution_count": 53,
     "metadata": {},
     "output_type": "execute_result"
    }
   ],
   "source": [
    "# get feature importance from the trained gradient boosting model\n",
    "importances = gb_model.feature_importances_\n",
    "\n",
    "# match them to the feature names\n",
    "feature_names = X_train_resampled.columns\n",
    "\n",
    "# create a dataframe \n",
    "feature_importance_df = pd.DataFrame({\n",
    "    'Feature': feature_names,\n",
    "    'importance': importances\n",
    "})\n",
    "\n",
    "feature_importance_df = feature_importance_df.sort_values(by='importance', ascending=False)\n",
    "\n",
    "feature_importance_df"
   ]
  },
  {
   "cell_type": "code",
   "execution_count": 54,
   "id": "cfc30692",
   "metadata": {},
   "outputs": [
    {
     "data": {
      "image/png": "[encoded data removed]",
      "text/plain": [
       "<Figure size 720x360 with 1 Axes>"
      ]
     },
     "metadata": {
      "needs_background": "light"
     },
     "output_type": "display_data"
    }
   ],
   "source": [
    "# plot\n",
    "plt.figure(figsize=(10,5))\n",
    "sns.barplot(data = feature_importance_df, x='importance', y='Feature', palette='viridis')\n",
    "plt.title('Feature Importance - Gradient Boosting Classifier')\n",
    "plt.tight_layout()\n",
    "plt.show()"
   ]
  },
  {
   "cell_type": "markdown",
   "id": "a4b2d5ee",
   "metadata": {},
   "source": [
    "-  The most influential features are **international plan_yes** and **customer service calls**, indicating that customers with international plans or those frequently contacting support are strong predictors in the model (likely for churn or similar behavior).\n",
    "\n",
    "- Daytime usage metrics (**total day minutes** and **total day charge**) significantly impact predictions, showing that how much customers use services during the day is a key behavioral indicator.\n",
    "\n",
    "- Several features like **account length**, **number vmail messages**, and night/evening call metrics have minimal impact, suggesting they could be de-prioritized or removed to simplify the model without losing much predictive power.\n",
    "\n",
    "### Recommendations\n",
    "\n",
    "1. Adopt Gradient Boosting for Churn Prediction.\n",
    "Gradient Boosting outperformed Logistic Regression and the Decision Tree model in terms of ROC-AUC and overall classification metrics. It captures complex, non-linear relationships in the data, making it well-suited for identifying churn patterns. It is recommended for deployment in churn prediction tasks, especially when accuracy and predictive power are top priorities.\n",
    "\n",
    "2. Monitor Model Bias and Interpretability.\n",
    "While Gradient Boosting offers high accuracy, it is less interpretable than Logistic Regression. For business stakeholders who prioritize transparency, combining a simpler interpretable model (like Logistic Regression) with Gradient Boosting could be a balanced approach. Additionally, ensure that the model does not inadvertently learn biases from the data (e.g., class imbalance or overfitting on minority classes).\n",
    "\n",
    "3. Continuous Update and validate the models\n",
    "The models were trained on a static dataset. As customer behavior and service offerings evolve, model performance may degrade over time. Regular retraining with fresh data, along with monitoring performance metrics like precision, recall, and ROC-AUC, will help maintain accuracy.\n",
    "\n",
    "- Some of the limitations are:\n",
    "   - The model relies heavily on input data and the data changes over time, the model's accuracy may drop.\n",
    "\n",
    "### Conclusion\n",
    "In this project, I explored customer churn using various models, including Logistic Regression, Tuned Decision Tree and Gradient Boosting. After handling class imbalance and standardizing our features, I evaluated model performance using metrics like ROC-AUC and feature importance. While the models showed promising results, their effectiveness depends on data quality and regular updates. "
   ]
  }
 ],
 "metadata": {
  "kernelspec": {
   "display_name": "learn-env",
   "language": "python",
   "name": "python3"
  },
  "language_info": {
   "codemirror_mode": {
    "name": "ipython",
    "version": 3
   },
   "file_extension": ".py",
   "mimetype": "text/x-python",
   "name": "python",
   "nbconvert_exporter": "python",
   "pygments_lexer": "ipython3",
   "version": "3.8.5"
  }
 },
 "nbformat": 4,
 "nbformat_minor": 5
}
